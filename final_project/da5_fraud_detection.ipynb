{
 "cells": [
  {
   "cell_type": "code",
   "execution_count": 1,
   "metadata": {
    "collapsed": false
   },
   "outputs": [],
   "source": [
    "#!/usr/bin/python\n",
    "%matplotlib inline \n",
    "\n",
    "import sys\n",
    "import pickle\n",
    "import json\n",
    "import numpy as np\n",
    "import pandas as pd\n",
    "import matplotlib.pyplot as plt\n",
    "import seaborn as sns\n",
    "\n",
    "sys.path.append(\"../tools/\")"
   ]
  },
  {
   "cell_type": "markdown",
   "metadata": {},
   "source": [
    "# Data Exploration"
   ]
  },
  {
   "cell_type": "code",
   "execution_count": 2,
   "metadata": {
    "collapsed": false
   },
   "outputs": [
    {
     "name": "stdout",
     "output_type": "stream",
     "text": [
      "-----------------------------------------\n",
      "Data Example:  [\n",
      "  {\n",
      "    \"salary\": 365788, \n",
      "    \"to_messages\": 807, \n",
      "    \"deferral_payments\": \"NaN\", \n",
      "    \"total_payments\": 1061827, \n",
      "    \"exercised_stock_options\": \"NaN\", \n",
      "    \"bonus\": 600000, \n",
      "    \"restricted_stock\": 585062, \n",
      "    \"shared_receipt_with_poi\": 702, \n",
      "    \"restricted_stock_deferred\": \"NaN\", \n",
      "    \"total_stock_value\": 585062, \n",
      "    \"expenses\": 94299, \n",
      "    \"loan_advances\": \"NaN\", \n",
      "    \"from_messages\": 29, \n",
      "    \"other\": 1740, \n",
      "    \"from_this_person_to_poi\": 1, \n",
      "    \"poi\": false, \n",
      "    \"director_fees\": \"NaN\", \n",
      "    \"deferred_income\": \"NaN\", \n",
      "    \"long_term_incentive\": \"NaN\", \n",
      "    \"email_address\": \"mark.metts@enron.com\", \n",
      "    \"from_poi_to_this_person\": 38\n",
      "  }\n",
      "]\n",
      "-----------------------------------------\n",
      "Total number of data points: 146\n"
     ]
    }
   ],
   "source": [
    "### Load the dictionary containing the dataset\n",
    "with open(\"final_project_dataset.pkl\", \"r\") as data_file:\n",
    "    data_dict = pickle.load(data_file)\n",
    "\n",
    "first_data_item = [v for v in data_dict.values()[:1]]\n",
    "print '-----------------------------------------'\n",
    "print 'Data Example: ', (json.dumps(first_data_item, indent=2))\n",
    "\n",
    "data_points = len(data_dict)\n",
    "print '-----------------------------------------'\n",
    "print 'Total number of data points:', data_points\n",
    " \n",
    "# add all features first to list and check the NaNs \n",
    "# 'poi' has to be first, because it is the target\n",
    "features_list = ['poi',\n",
    "                 'salary', \"to_messages\", \n",
    "    \"total_payments\",      \n",
    "    \"exercised_stock_options\", \n",
    "    \"bonus\", \n",
    "    \"restricted_stock\", \n",
    "    \"shared_receipt_with_poi\", \n",
    "    \"restricted_stock_deferred\", \n",
    "    \"total_stock_value\", \n",
    "    \"expenses\", \n",
    "    \"loan_advances\", \n",
    "    \"from_messages\", \n",
    "    \"from_this_person_to_poi\", \n",
    "    \"director_fees\", \n",
    "    \"deferred_income\", \n",
    "    \"long_term_incentive\", \n",
    "    \"from_poi_to_this_person\"] \n"
   ]
  },
  {
   "cell_type": "code",
   "execution_count": 3,
   "metadata": {
    "collapsed": false
   },
   "outputs": [
    {
     "name": "stdout",
     "output_type": "stream",
     "text": [
      "<class 'pandas.core.frame.DataFrame'>\n",
      "Index: 146 entries, ALLEN PHILLIP K to YEAP SOON\n",
      "Data columns (total 18 columns):\n",
      "poi                          146 non-null bool\n",
      "salary                       95 non-null float64\n",
      "to_messages                  86 non-null float64\n",
      "total_payments               125 non-null float64\n",
      "exercised_stock_options      102 non-null float64\n",
      "bonus                        82 non-null float64\n",
      "restricted_stock             110 non-null float64\n",
      "shared_receipt_with_poi      86 non-null float64\n",
      "restricted_stock_deferred    18 non-null float64\n",
      "total_stock_value            126 non-null float64\n",
      "expenses                     95 non-null float64\n",
      "loan_advances                4 non-null float64\n",
      "from_messages                86 non-null float64\n",
      "from_this_person_to_poi      86 non-null float64\n",
      "director_fees                17 non-null float64\n",
      "deferred_income              49 non-null float64\n",
      "long_term_incentive          66 non-null float64\n",
      "from_poi_to_this_person      86 non-null float64\n",
      "dtypes: bool(1), float64(17)\n",
      "memory usage: 20.7+ KB\n"
     ]
    }
   ],
   "source": [
    "# load data into a dataframe \n",
    "df = pd.DataFrame.from_dict(data_dict, orient = 'index')\n",
    "# replace the NaN for our exploration - undo it for the machine learning part\n",
    "df = df.replace('NaN', np.nan)\n",
    "df = df[features_list]\n",
    "df.info()"
   ]
  },
  {
   "cell_type": "markdown",
   "metadata": {},
   "source": [
    "remove 'restricted_stock_deferred', 'loan_advances'  and 'director_fees' because they have at least 88.7% of NaN values."
   ]
  },
  {
   "cell_type": "code",
   "execution_count": 4,
   "metadata": {
    "collapsed": false
   },
   "outputs": [
    {
     "name": "stdout",
     "output_type": "stream",
     "text": [
      "15\n"
     ]
    }
   ],
   "source": [
    "features_list.remove('restricted_stock_deferred')\n",
    "features_list.remove('director_fees')    \n",
    "features_list.remove('loan_advances')\n",
    "\n",
    "df = df.drop('restricted_stock_deferred', 1)\n",
    "df = df.drop('director_fees', 1)\n",
    "df = df.drop('loan_advances', 1)\n",
    "\n",
    "print len(features_list)"
   ]
  },
  {
   "cell_type": "code",
   "execution_count": 5,
   "metadata": {
    "collapsed": false
   },
   "outputs": [
    {
     "name": "stdout",
     "output_type": "stream",
     "text": [
      "Amount of NaN values in the dataset:  764\n"
     ]
    }
   ],
   "source": [
    "print \"Amount of NaN values in the dataset: \", df.isnull().sum().sum()\n",
    "# Todo compare total and nan"
   ]
  },
  {
   "cell_type": "code",
   "execution_count": 6,
   "metadata": {
    "collapsed": false
   },
   "outputs": [
    {
     "data": {
      "text/plain": [
       "non persons of interest    128\n",
       "persons of interest         18\n",
       "Name: poi, dtype: int64"
      ]
     },
     "execution_count": 6,
     "metadata": {},
     "output_type": "execute_result"
    }
   ],
   "source": [
    "poi_to_non_poi = df.poi.value_counts()\n",
    "poi_to_non_poi.index=['non persons of interest', 'persons of interest']\n",
    "\n",
    "poi_to_non_poi"
   ]
  },
  {
   "cell_type": "markdown",
   "metadata": {},
   "source": [
    "### Features"
   ]
  },
  {
   "cell_type": "code",
   "execution_count": 7,
   "metadata": {
    "collapsed": false
   },
   "outputs": [
    {
     "data": {
      "text/html": [
       "<div>\n",
       "<table border=\"1\" class=\"dataframe\">\n",
       "  <thead>\n",
       "    <tr style=\"text-align: right;\">\n",
       "      <th></th>\n",
       "      <th>poi</th>\n",
       "      <th>salary</th>\n",
       "      <th>to_messages</th>\n",
       "      <th>total_payments</th>\n",
       "      <th>exercised_stock_options</th>\n",
       "      <th>bonus</th>\n",
       "      <th>restricted_stock</th>\n",
       "      <th>shared_receipt_with_poi</th>\n",
       "      <th>total_stock_value</th>\n",
       "      <th>expenses</th>\n",
       "      <th>from_messages</th>\n",
       "      <th>from_this_person_to_poi</th>\n",
       "      <th>deferred_income</th>\n",
       "      <th>long_term_incentive</th>\n",
       "      <th>from_poi_to_this_person</th>\n",
       "    </tr>\n",
       "  </thead>\n",
       "  <tbody>\n",
       "    <tr>\n",
       "      <th>GRAMM WENDY L</th>\n",
       "      <td>False</td>\n",
       "      <td>NaN</td>\n",
       "      <td>NaN</td>\n",
       "      <td>119292.0</td>\n",
       "      <td>NaN</td>\n",
       "      <td>NaN</td>\n",
       "      <td>NaN</td>\n",
       "      <td>NaN</td>\n",
       "      <td>NaN</td>\n",
       "      <td>NaN</td>\n",
       "      <td>NaN</td>\n",
       "      <td>NaN</td>\n",
       "      <td>NaN</td>\n",
       "      <td>NaN</td>\n",
       "      <td>NaN</td>\n",
       "    </tr>\n",
       "    <tr>\n",
       "      <th>LOCKHART EUGENE E</th>\n",
       "      <td>False</td>\n",
       "      <td>NaN</td>\n",
       "      <td>NaN</td>\n",
       "      <td>NaN</td>\n",
       "      <td>NaN</td>\n",
       "      <td>NaN</td>\n",
       "      <td>NaN</td>\n",
       "      <td>NaN</td>\n",
       "      <td>NaN</td>\n",
       "      <td>NaN</td>\n",
       "      <td>NaN</td>\n",
       "      <td>NaN</td>\n",
       "      <td>NaN</td>\n",
       "      <td>NaN</td>\n",
       "      <td>NaN</td>\n",
       "    </tr>\n",
       "    <tr>\n",
       "      <th>THE TRAVEL AGENCY IN THE PARK</th>\n",
       "      <td>False</td>\n",
       "      <td>NaN</td>\n",
       "      <td>NaN</td>\n",
       "      <td>362096.0</td>\n",
       "      <td>NaN</td>\n",
       "      <td>NaN</td>\n",
       "      <td>NaN</td>\n",
       "      <td>NaN</td>\n",
       "      <td>NaN</td>\n",
       "      <td>NaN</td>\n",
       "      <td>NaN</td>\n",
       "      <td>NaN</td>\n",
       "      <td>NaN</td>\n",
       "      <td>NaN</td>\n",
       "      <td>NaN</td>\n",
       "    </tr>\n",
       "    <tr>\n",
       "      <th>WODRASKA JOHN</th>\n",
       "      <td>False</td>\n",
       "      <td>NaN</td>\n",
       "      <td>NaN</td>\n",
       "      <td>189583.0</td>\n",
       "      <td>NaN</td>\n",
       "      <td>NaN</td>\n",
       "      <td>NaN</td>\n",
       "      <td>NaN</td>\n",
       "      <td>NaN</td>\n",
       "      <td>NaN</td>\n",
       "      <td>NaN</td>\n",
       "      <td>NaN</td>\n",
       "      <td>NaN</td>\n",
       "      <td>NaN</td>\n",
       "      <td>NaN</td>\n",
       "    </tr>\n",
       "  </tbody>\n",
       "</table>\n",
       "</div>"
      ],
      "text/plain": [
       "                                 poi  salary  to_messages  total_payments  \\\n",
       "GRAMM WENDY L                  False     NaN          NaN        119292.0   \n",
       "LOCKHART EUGENE E              False     NaN          NaN             NaN   \n",
       "THE TRAVEL AGENCY IN THE PARK  False     NaN          NaN        362096.0   \n",
       "WODRASKA JOHN                  False     NaN          NaN        189583.0   \n",
       "\n",
       "                               exercised_stock_options  bonus  \\\n",
       "GRAMM WENDY L                                      NaN    NaN   \n",
       "LOCKHART EUGENE E                                  NaN    NaN   \n",
       "THE TRAVEL AGENCY IN THE PARK                      NaN    NaN   \n",
       "WODRASKA JOHN                                      NaN    NaN   \n",
       "\n",
       "                               restricted_stock  shared_receipt_with_poi  \\\n",
       "GRAMM WENDY L                               NaN                      NaN   \n",
       "LOCKHART EUGENE E                           NaN                      NaN   \n",
       "THE TRAVEL AGENCY IN THE PARK               NaN                      NaN   \n",
       "WODRASKA JOHN                               NaN                      NaN   \n",
       "\n",
       "                               total_stock_value  expenses  from_messages  \\\n",
       "GRAMM WENDY L                                NaN       NaN            NaN   \n",
       "LOCKHART EUGENE E                            NaN       NaN            NaN   \n",
       "THE TRAVEL AGENCY IN THE PARK                NaN       NaN            NaN   \n",
       "WODRASKA JOHN                                NaN       NaN            NaN   \n",
       "\n",
       "                               from_this_person_to_poi  deferred_income  \\\n",
       "GRAMM WENDY L                                      NaN              NaN   \n",
       "LOCKHART EUGENE E                                  NaN              NaN   \n",
       "THE TRAVEL AGENCY IN THE PARK                      NaN              NaN   \n",
       "WODRASKA JOHN                                      NaN              NaN   \n",
       "\n",
       "                               long_term_incentive  from_poi_to_this_person  \n",
       "GRAMM WENDY L                                  NaN                      NaN  \n",
       "LOCKHART EUGENE E                              NaN                      NaN  \n",
       "THE TRAVEL AGENCY IN THE PARK                  NaN                      NaN  \n",
       "WODRASKA JOHN                                  NaN                      NaN  "
      ]
     },
     "execution_count": 7,
     "metadata": {},
     "output_type": "execute_result"
    }
   ],
   "source": [
    "#count NaNs for each row in dataframe\n",
    "df[df.isnull().sum(axis=1) >= 13]"
   ]
  },
  {
   "cell_type": "markdown",
   "metadata": {},
   "source": [
    "There are four entries that have 13 or more NaN s out of 18. We remove \"LOCKHART EUGENE E\" because this entry only contains NaNs and we will also remove \"THE TRAVEL AGENCY IN THE PARK\", because it contains only on entry and is not a person."
   ]
  },
  {
   "cell_type": "code",
   "execution_count": 8,
   "metadata": {
    "collapsed": false
   },
   "outputs": [
    {
     "data": {
      "text/plain": [
       "{'bonus': 'NaN',\n",
       " 'deferral_payments': 'NaN',\n",
       " 'deferred_income': 'NaN',\n",
       " 'director_fees': 'NaN',\n",
       " 'email_address': 'NaN',\n",
       " 'exercised_stock_options': 'NaN',\n",
       " 'expenses': 'NaN',\n",
       " 'from_messages': 'NaN',\n",
       " 'from_poi_to_this_person': 'NaN',\n",
       " 'from_this_person_to_poi': 'NaN',\n",
       " 'loan_advances': 'NaN',\n",
       " 'long_term_incentive': 'NaN',\n",
       " 'other': 362096,\n",
       " 'poi': False,\n",
       " 'restricted_stock': 'NaN',\n",
       " 'restricted_stock_deferred': 'NaN',\n",
       " 'salary': 'NaN',\n",
       " 'shared_receipt_with_poi': 'NaN',\n",
       " 'to_messages': 'NaN',\n",
       " 'total_payments': 362096,\n",
       " 'total_stock_value': 'NaN'}"
      ]
     },
     "execution_count": 8,
     "metadata": {},
     "output_type": "execute_result"
    }
   ],
   "source": [
    "df = df.drop('TOTAL')\n",
    "df = df.drop('LOCKHART EUGENE E')\n",
    "df = df.drop('THE TRAVEL AGENCY IN THE PARK')\n",
    "\n",
    "data_dict.pop('TOTAL', 0)\n",
    "data_dict.pop('LOCKHART EUGENE E', 0)\n",
    "data_dict.pop('THE TRAVEL AGENCY IN THE PARK', 0)"
   ]
  },
  {
   "cell_type": "markdown",
   "metadata": {},
   "source": [
    "### Identifying outliers"
   ]
  },
  {
   "cell_type": "code",
   "execution_count": 9,
   "metadata": {
    "collapsed": false
   },
   "outputs": [
    {
     "name": "stdout",
     "output_type": "stream",
     "text": [
      "              Bonus       Salaray\n",
      "count  8.100000e+01  9.400000e+01\n",
      "mean   1.201773e+06  2.840875e+05\n",
      "std    1.441679e+06  1.771311e+05\n",
      "min    7.000000e+04  4.770000e+02\n",
      "25%             NaN           NaN\n",
      "50%             NaN           NaN\n",
      "75%             NaN           NaN\n",
      "max    8.000000e+06  1.111258e+06\n",
      "                       salary      bonus\n",
      "SKILLING JEFFREY K  1111258.0  5600000.0\n",
      "LAY KENNETH L       1072321.0  7000000.0\n",
      "FREVERT MARK A      1060932.0  2000000.0\n",
      "PICKERING MARK R     655037.0   300000.0\n",
      "WHALLEY LAWRENCE G   510364.0  3000000.0\n",
      "                       salary      bonus\n",
      "LAVORATO JOHN J      339288.0  8000000.0\n",
      "LAY KENNETH L       1072321.0  7000000.0\n",
      "SKILLING JEFFREY K  1111258.0  5600000.0\n",
      "BELDEN TIMOTHY N     213999.0  5249999.0\n",
      "ALLEN PHILLIP K      201955.0  4175000.0\n",
      "KITCHEN LOUISE       271442.0  3100000.0\n",
      "DELAINEY DAVID W     365163.0  3000000.0\n",
      "WHALLEY LAWRENCE G   510364.0  3000000.0\n",
      "MCMAHON JEFFREY      370448.0  2600000.0\n",
      "FALLON JAMES B       304588.0  2500000.0\n"
     ]
    },
    {
     "name": "stderr",
     "output_type": "stream",
     "text": [
      "/Users/barbara/anaconda2/lib/python2.7/site-packages/numpy/lib/function_base.py:3834: RuntimeWarning: Invalid value encountered in percentile\n",
      "  RuntimeWarning)\n"
     ]
    },
    {
     "data": {
      "text/plain": [
       "<matplotlib.axes._subplots.AxesSubplot at 0x119310e50>"
      ]
     },
     "execution_count": 9,
     "metadata": {},
     "output_type": "execute_result"
    },
    {
     "data": {
      "image/png": "[encoded data removed]",
      "text/plain": [
       "<matplotlib.figure.Figure at 0x119661c50>"
      ]
     },
     "metadata": {},
     "output_type": "display_data"
    }
   ],
   "source": [
    "#data_dict.pop(\"TOTAL\", 0) \n",
    "#df = df.drop('TOTAL')\n",
    "money_df = pd.DataFrame({\"Salaray\": df['salary'],\n",
    "                          \"Bonus\": df['bonus']})\n",
    "print money_df.describe()\n",
    "\n",
    "new = df.filter(['salary','bonus'], axis=1)\n",
    "\n",
    "print new.nlargest(5, 'salary')\n",
    "print new.nlargest(10, 'bonus')\n",
    "\n",
    "df.plot.scatter('salary', 'bonus')"
   ]
  },
  {
   "cell_type": "markdown",
   "metadata": {},
   "source": [
    "There is a data point far far away from the others. As the name of this datapoint is \"Total \" it is clear that this is an outlier due to a spreadsheet error. We will remove this datapoint and take a closer look.\n",
    "\n",
    "After removing the spreadsheet error, we can identify some outliers in the salary. SKILLING JEFFREY K, LAY KENNETH L and FREVERT MARK A had a salary over 1.000.000 each. The highest Bonus had LAVORATO JOHN J. There are some more outliers, but we want to keep this data for our analysis, because those are more likely to be anomalies than outliers."
   ]
  },
  {
   "cell_type": "markdown",
   "metadata": {},
   "source": [
    "# Optimize Feature Selection"
   ]
  },
  {
   "cell_type": "markdown",
   "metadata": {},
   "source": [
    "### Create new features"
   ]
  },
  {
   "cell_type": "code",
   "execution_count": 10,
   "metadata": {
    "collapsed": false
   },
   "outputs": [
    {
     "data": {
      "text/plain": [
       "<matplotlib.axes._subplots.AxesSubplot at 0x11951ae50>"
      ]
     },
     "execution_count": 10,
     "metadata": {},
     "output_type": "execute_result"
    },
    {
     "data": {
      "image/png": "[encoded data removed]",
      "text/plain": [
       "<matplotlib.figure.Figure at 0x1191fe710>"
      ]
     },
     "metadata": {},
     "output_type": "display_data"
    },
    {
     "data": {
      "image/png": "[encoded data removed]",
      "text/plain": [
       "<matplotlib.figure.Figure at 0x119310bd0>"
      ]
     },
     "metadata": {},
     "output_type": "display_data"
    },
    {
     "data": {
      "image/png": "[encoded data removed]",
      "text/plain": [
       "<matplotlib.figure.Figure at 0x1194077d0>"
      ]
     },
     "metadata": {},
     "output_type": "display_data"
    }
   ],
   "source": [
    "# dataframe\n",
    "df['fraction_to_poi'] = df['from_this_person_to_poi'] / df['to_messages']\n",
    "df['fraction_from_poi'] = df['from_poi_to_this_person'] / df['from_messages']\n",
    "\n",
    "df.plot.scatter('from_messages', 'from_this_person_to_poi')\n",
    "df.plot.scatter('to_messages', 'from_poi_to_this_person')\n",
    "\n",
    "#plot new features\n",
    "df.plot.scatter('fraction_to_poi', 'fraction_from_poi')  "
   ]
  },
  {
   "cell_type": "code",
   "execution_count": 12,
   "metadata": {
    "collapsed": false
   },
   "outputs": [
    {
     "data": {
      "text/plain": [
       "<matplotlib.text.Text at 0x10d4ecd50>"
      ]
     },
     "execution_count": 12,
     "metadata": {},
     "output_type": "execute_result"
    },
    {
     "data": {
      "image/png": "[encoded data removed]",
      "text/plain": [
       "<matplotlib.figure.Figure at 0x11d9139d0>"
      ]
     },
     "metadata": {},
     "output_type": "display_data"
    }
   ],
   "source": [
    "# bonus to total_payments\n",
    "df['fraction_bonus'] = df['total_payments'] / df['bonus']\n",
    "\n",
    "# add a new column with bins for fraction bonus\n",
    "def get_fraction_bonus_bins(fraction_bonus):\n",
    "    fraction_bonus_bins = fraction_bonus\n",
    "    if fraction_bonus > 4 and fraction_bonus <= 10:\n",
    "        return '5 - 10'\n",
    "    elif fraction_bonus > 0 and fraction_bonus < 5:\n",
    "        return '0 - 4'\n",
    "    elif fraction_bonus > 10:\n",
    "        return 'bigger than 10'\n",
    "    else:\n",
    "        return 'nan'\n",
    "\n",
    "df['fraction_bonus_bins'] = df['fraction_bonus'].apply(get_fraction_bonus_bins)\n",
    "\n",
    "df.groupby('poi')['fraction_bonus_bins'].value_counts().unstack().plot(kind = 'bar')\n",
    "plt.xticks([0, 1], ['Not a person of interest', 'person of interest'], rotation = 0)\n",
    "plt.title('Fraction bonus in bins by poi')"
   ]
  },
  {
   "cell_type": "code",
   "execution_count": 11,
   "metadata": {
    "collapsed": false
   },
   "outputs": [],
   "source": [
    "# once again  - create new features and add them to the data dict:\n",
    "for k in data_dict.keys():\n",
    "    data_dict[k]['ratio_from_poi'] = 0\n",
    "    if (data_dict[k]['from_poi_to_this_person'] != 'NaN') and (data_dict[k]['from_messages'] != 'NaN') and (data_dict[k]['from_messages'] != 0):\n",
    "        data_dict[k]['ratio_from_poi'] = float(data_dict[k]['from_poi_to_this_person'])/float(data_dict[k]['from_messages'])\n",
    "features_list.append('ratio_from_poi')\n",
    "\n",
    "for k in data_dict.keys():\n",
    "    data_dict[k]['ratio_to_poi'] = 0\n",
    "    if (data_dict[k]['from_this_person_to_poi'] != 'NaN') and (data_dict[k]['to_messages'] != 'NaN') and (data_dict[k]['to_messages'] != 0):\n",
    "        data_dict[k]['ratio_to_poi'] = float(data_dict[k]['from_this_person_to_poi'])/float(data_dict[k]['to_messages'])\n",
    "features_list.append('ratio_to_poi')\n",
    "\n",
    "\n",
    "for k in data_dict.keys():\n",
    "    data_dict[k]['ratio_bonus'] = 0\n",
    "    if (data_dict[k]['total_payments'] != 'NaN') and (data_dict[k]['bonus'] != 'NaN') and (data_dict[k]['bonus'] != 0):\n",
    "        data_dict[k]['ratio_bonus'] = float(data_dict[k]['total_payments'])/float(data_dict[k]['bonus'])\n",
    "features_list.append('ratio_bonus')\n",
    "\n",
    "\n",
    "### update feature_list \n",
    "features_list.append('ratio_from_poi')\n",
    "features_list.append('ratio_to_poi')\n",
    "features_list.append('ratio_bonus')"
   ]
  },
  {
   "cell_type": "code",
   "execution_count": 12,
   "metadata": {
    "collapsed": false
   },
   "outputs": [
    {
     "name": "stderr",
     "output_type": "stream",
     "text": [
      "/Users/barbara/anaconda2/lib/python2.7/site-packages/sklearn/cross_validation.py:44: DeprecationWarning: This module was deprecated in version 0.18 in favor of the model_selection module into which all the refactored classes and functions are moved. Also note that the interface of the new CV iterators are different from that of this module. This module will be removed in 0.20.\n",
      "  \"This module will be removed in 0.20.\", DeprecationWarning)\n"
     ]
    }
   ],
   "source": [
    "from feature_format import featureFormat, targetFeatureSplit\n",
    "from tester import dump_classifier_and_data, test_classifier\n",
    "\n",
    "my_dataset = data_dict  \n",
    "\n",
    "# Extract features and labels from dataset for local testing\n",
    "data = featureFormat(my_dataset, features_list)\n",
    "labels, features = targetFeatureSplit(data)"
   ]
  },
  {
   "cell_type": "markdown",
   "metadata": {},
   "source": [
    "## Select Features"
   ]
  },
  {
   "cell_type": "code",
   "execution_count": 14,
   "metadata": {
    "collapsed": false
   },
   "outputs": [
    {
     "name": "stdout",
     "output_type": "stream",
     "text": [
      "Select KBest [('exercised_stock_options', 24.815079733218194), ('total_stock_value', 24.182898678566879), ('bonus', 20.792252047181535), ('salary', 18.289684043404513), ('deferred_income', 11.458476579280369), ('long_term_incentive', 9.9221860131898225), ('restricted_stock', 9.2128106219771002), ('total_payments', 8.7727777300916792), ('shared_receipt_with_poi', 8.589420731682381), ('expenses', 6.0941733106389453), ('from_poi_to_this_person', 5.2434497133749582), ('ratio_from_poi', 5.123946152756889), ('ratio_from_poi', 5.123946152756889), ('ratio_bonus', 4.4527162100462689), ('ratio_bonus', 4.4527162100462689), ('ratio_to_poi', 4.09465330957695), ('ratio_to_poi', 4.09465330957695), ('from_this_person_to_poi', 2.3826121082276739), ('to_messages', 1.6463411294420076), ('from_messages', 0.16970094762175533)]\n"
     ]
    }
   ],
   "source": [
    "from sklearn.feature_selection import SelectKBest\n",
    "# Univariate feature selection\n",
    "\n",
    "k_best = SelectKBest(k=7)\n",
    "k_best.fit(features, labels)\n",
    "scores = k_best.scores_\n",
    "unsorted_pairs = zip(features_list[1:], scores)\n",
    "sorted_pairs = list(reversed(sorted(unsorted_pairs, key=lambda x: x[1])))\n",
    "\n",
    "print 'Select KBest', sorted_pairs"
   ]
  },
  {
   "cell_type": "markdown",
   "metadata": {},
   "source": [
    "### Principle Component Analysis"
   ]
  },
  {
   "cell_type": "markdown",
   "metadata": {},
   "source": [
    "For selecting Features PCA is better, because it takes the features and creates new ones superior to original attributes.\n",
    "\n",
    "Principal Component of a dataset is the direction that has the largest variance*, because it retains the max amoutn of information of the original data. \n",
    "\n",
    "Systematized way to transform input features into principle components\n",
    "Use principal components as new features\n",
    "PCs are directions in data that maximize variance (minimize information loss) whe you project/compress down onto them. More variance of data along a PC, higher that PC is ranked\n",
    "Most variance/most information -> first PC\n",
    "Second most variance (without overlapping w/ first PC) -> second PC\n",
    "Max no. of Pcs = no. of input features\n",
    "\n",
    "We want to use PCA when latent features driving the patterns in data\n",
    "We need dimensionality reduction for visualizing high-dimensional data, reduce noise and\n",
    "make other algorithms (regression, classification) work better we fewer inputs \n",
    "\n",
    "*Variance: \"spread of data distribution\" -> similar to standard deviation"
   ]
  },
  {
   "cell_type": "code",
   "execution_count": 15,
   "metadata": {
    "collapsed": false
   },
   "outputs": [
    {
     "name": "stdout",
     "output_type": "stream",
     "text": [
      "[  8.02257982e-01   1.67012744e-01   1.89157980e-02   7.59919360e-03\n",
      "   2.31634112e-03   1.70785314e-03   1.17044849e-04   6.12535420e-05]\n"
     ]
    }
   ],
   "source": [
    "from sklearn.decomposition import PCA\n",
    "\n",
    "def doPCA():\n",
    "    pca = PCA(n_components=8)\n",
    "    pca.fit(data)\n",
    "    return pca\n",
    "\n",
    "pca = doPCA()\n",
    "print pca.explained_variance_ratio_"
   ]
  },
  {
   "cell_type": "markdown",
   "metadata": {},
   "source": [
    "# Pick and Tune an Algorithm"
   ]
  },
  {
   "cell_type": "markdown",
   "metadata": {},
   "source": [
    "Naive Baies"
   ]
  },
  {
   "cell_type": "code",
   "execution_count": 16,
   "metadata": {
    "collapsed": false
   },
   "outputs": [
    {
     "name": "stdout",
     "output_type": "stream",
     "text": [
      "Pipeline(steps=[('pca', PCA(copy=True, iterated_power='auto', n_components=8, random_state=None,\n",
      "  svd_solver='auto', tol=0.0, whiten=False)), ('nb', GaussianNB(priors=None))])\n",
      "\tAccuracy: 0.85653\tPrecision: 0.45498\tRecall: 0.38400\tF1: 0.41649\tF2: 0.39637\n",
      "\tTotal predictions: 15000\tTrue positives:  768\tFalse positives:  920\tFalse negatives: 1232\tTrue negatives: 12080\n",
      "\n"
     ]
    }
   ],
   "source": [
    "from sklearn.naive_bayes import GaussianNB\n",
    "from sklearn.pipeline import Pipeline\n",
    "\n",
    "nb = GaussianNB()\n",
    "pca = doPCA()\n",
    "clf = Pipeline(steps=[('pca', pca), ('nb', nb)])\n",
    "\n",
    "test_classifier(clf, my_dataset, features_list)"
   ]
  },
  {
   "cell_type": "code",
   "execution_count": null,
   "metadata": {
    "collapsed": true
   },
   "outputs": [],
   "source": [
    "SVM"
   ]
  },
  {
   "cell_type": "code",
   "execution_count": 20,
   "metadata": {
    "collapsed": false
   },
   "outputs": [
    {
     "name": "stdout",
     "output_type": "stream",
     "text": [
      "Pipeline(steps=[('pca', PCA(copy=True, iterated_power='auto', n_components=8, random_state=None,\n",
      "  svd_solver='auto', tol=0.0, whiten=False)), ('scale', StandardScaler(copy=True, with_mean=True, with_std=True)), ('svc', SVC(C=1.0, cache_size=200, class_weight=None, coef0=0.0,\n",
      "  decision_function_shape=None, degree=3, gamma='auto', kernel='linear',\n",
      "  max_iter=-1, probability=False, random_state=None, shrinking=True,\n",
      "  tol=0.001, verbose=False))])\n",
      "\tAccuracy: 0.85807\tPrecision: 0.36864\tRecall: 0.09050\tF1: 0.14532\tF2: 0.10658\n",
      "\tTotal predictions: 15000\tTrue positives:  181\tFalse positives:  310\tFalse negatives: 1819\tTrue negatives: 12690\n",
      "\n"
     ]
    }
   ],
   "source": [
    "from sklearn.preprocessing import StandardScaler\n",
    "from sklearn.svm import SVC\n",
    "from sklearn.naive_bayes import GaussianNB\n",
    "from sklearn.pipeline import Pipeline\n",
    "\n",
    "svc = SVC(kernel=\"linear\")\n",
    "pca = doPCA()\n",
    "\n",
    "clf = Pipeline(steps=[('pca', pca), ('scale', StandardScaler()), ('svc', svc)])\n",
    "\n",
    "test_classifier(clf, my_dataset, features_list)"
   ]
  },
  {
   "cell_type": "code",
   "execution_count": null,
   "metadata": {
    "collapsed": true
   },
   "outputs": [],
   "source": [
    "Knn"
   ]
  },
  {
   "cell_type": "code",
   "execution_count": 21,
   "metadata": {
    "collapsed": false
   },
   "outputs": [
    {
     "name": "stdout",
     "output_type": "stream",
     "text": [
      "Pipeline(steps=[('pca', PCA(copy=True, iterated_power='auto', n_components=8, random_state=None,\n",
      "  svd_solver='auto', tol=0.0, whiten=False)), ('scale', StandardScaler(copy=True, with_mean=True, with_std=True)), ('knn', KNeighborsClassifier(algorithm='auto', leaf_size=30, metric='minkowski',\n",
      "           metric_params=None, n_jobs=1, n_neighbors=5, p=2,\n",
      "           weights='uniform'))])\n",
      "\tAccuracy: 0.86080\tPrecision: 0.13934\tRecall: 0.00850\tF1: 0.01602\tF2: 0.01047\n",
      "\tTotal predictions: 15000\tTrue positives:   17\tFalse positives:  105\tFalse negatives: 1983\tTrue negatives: 12895\n",
      "\n"
     ]
    }
   ],
   "source": [
    "from sklearn.neighbors import KNeighborsClassifier\n",
    "knn = KNeighborsClassifier()\n",
    "pca = doPCA()\n",
    "\n",
    "clf = Pipeline(steps=[('pca', pca), ('scale', StandardScaler()), ('knn', knn)])\n",
    "\n",
    "test_classifier(clf, my_dataset, features_list)"
   ]
  },
  {
   "cell_type": "code",
   "execution_count": null,
   "metadata": {
    "collapsed": true
   },
   "outputs": [],
   "source": [
    "DecisionTree"
   ]
  },
  {
   "cell_type": "code",
   "execution_count": 22,
   "metadata": {
    "collapsed": false
   },
   "outputs": [
    {
     "name": "stdout",
     "output_type": "stream",
     "text": [
      "Pipeline(steps=[('pca', PCA(copy=True, iterated_power='auto', n_components=8, random_state=None,\n",
      "  svd_solver='auto', tol=0.0, whiten=False)), ('dt', DecisionTreeClassifier(class_weight=None, criterion='gini', max_depth=None,\n",
      "            max_features=None, max_leaf_nodes=None,\n",
      "            min_impurity_split=1e-07, min_samples_leaf=1,\n",
      "            min_samples_split=2, min_weight_fraction_leaf=0.0,\n",
      "            presort=False, random_state=None, splitter='best'))])\n",
      "\tAccuracy: 0.79567\tPrecision: 0.24631\tRecall: 0.25850\tF1: 0.25226\tF2: 0.25597\n",
      "\tTotal predictions: 15000\tTrue positives:  517\tFalse positives: 1582\tFalse negatives: 1483\tTrue negatives: 11418\n",
      "\n"
     ]
    }
   ],
   "source": [
    "from sklearn import tree\n",
    "\n",
    "dt = tree.DecisionTreeClassifier()\n",
    "pca = doPCA()\n",
    "\n",
    "clf = Pipeline(steps=[('pca', pca), ('dt', dt)])\n",
    "\n",
    "test_classifier(clf, my_dataset, features_list)"
   ]
  },
  {
   "cell_type": "code",
   "execution_count": null,
   "metadata": {
    "collapsed": true
   },
   "outputs": [],
   "source": [
    "Random Forest"
   ]
  },
  {
   "cell_type": "code",
   "execution_count": 45,
   "metadata": {
    "collapsed": false
   },
   "outputs": [
    {
     "name": "stdout",
     "output_type": "stream",
     "text": [
      "Pipeline(steps=[('pca', PCA(copy=True, iterated_power='auto', n_components=8, random_state=None,\n",
      "  svd_solver='auto', tol=0.0, whiten=False)), ('scale', StandardScaler(copy=True, with_mean=True, with_std=True)), ('rf', RandomForestClassifier(bootstrap=True, class_weight=None, criterion='gini',\n",
      "            ma...imators=10, n_jobs=1, oob_score=False, random_state=None,\n",
      "            verbose=0, warm_start=False))])\n",
      "\tAccuracy: 0.85240\tPrecision: 0.36352\tRecall: 0.14250\tF1: 0.20474\tF2: 0.16223\n",
      "\tTotal predictions: 15000\tTrue positives:  285\tFalse positives:  499\tFalse negatives: 1715\tTrue negatives: 12501\n",
      "\n"
     ]
    }
   ],
   "source": [
    "from sklearn.ensemble import RandomForestClassifier\n",
    "\n",
    "rf = RandomForestClassifier()\n",
    "pca = doPCA()\n",
    "\n",
    "clf = Pipeline(steps=[('pca', pca), ('scale', StandardScaler()), ('rf', rf)])\n",
    "\n",
    "test_classifier(clf, my_dataset, features_list)"
   ]
  },
  {
   "cell_type": "markdown",
   "metadata": {},
   "source": [
    "## Tune the algorithm "
   ]
  },
  {
   "cell_type": "markdown",
   "metadata": {},
   "source": [
    "GridSearchCV is a way of systematically working through multiple combinations of parameter tunes, cross-validating as it goes to determine which tune gives the best performance. The beauty is that it can work through many combinations in only a couple extra lines of code.\n",
    "\n",
    "We want to tune the DecisionTree algorithm and try to achieve better scores."
   ]
  },
  {
   "cell_type": "code",
   "execution_count": 61,
   "metadata": {
    "collapsed": false
   },
   "outputs": [
    {
     "name": "stdout",
     "output_type": "stream",
     "text": [
      "GridSearchCV(cv=None, error_score='raise',\n",
      "       estimator=Pipeline(steps=[('pca', PCA(copy=True, iterated_power='auto', n_components=None, random_state=None,\n",
      "  svd_solver='auto', tol=0.0, whiten=False)), ('dt', DecisionTreeClassifier(class_weight=None, criterion='gini', max_depth=None,\n",
      "            max_features=None, max_leaf_nodes=None,\n",
      "            min_impurity_split=1e-07, min_samples_leaf=1,\n",
      "            min_samples_split=2, min_weight_fraction_leaf=0.0,\n",
      "            presort=False, random_state=None, splitter='best'))]),\n",
      "       fit_params={}, iid=True, n_jobs=1,\n",
      "       param_grid={'dt__criterion': ['gini', 'entropy'], 'dt__splitter': ['best', 'random'], 'pca__n_components': [3, 5, 8], 'pca__svd_solver': ['full', 'auto'], 'dt__min_samples_split': [20, 50, 100], 'dt__random_state': [100, 200]},\n",
      "       pre_dispatch='2*n_jobs', refit=True, scoring=None, verbose=0)\n",
      "\tAccuracy: 0.85753\tPrecision: 0.40200\tRecall: 0.14050\tF1: 0.20823\tF2: 0.16151\n",
      "\tTotal predictions: 15000\tTrue positives:  281\tFalse positives:  418\tFalse negatives: 1719\tTrue negatives: 12582\n",
      "\n"
     ]
    }
   ],
   "source": [
    "from sklearn.model_selection import GridSearchCV\n",
    "\n",
    "dt = tree.DecisionTreeClassifier()\n",
    "pca = PCA()\n",
    "\n",
    "pipe = Pipeline([('pca', pca), ('dt', dt)])\n",
    "parameters = dict(pca__n_components=[3, 5, 8], \n",
    "                  pca__svd_solver=['full', 'auto'],\n",
    "                  dt__criterion=['gini', 'entropy'],\n",
    "                  dt__splitter=['best', 'random'],\n",
    "                  dt__min_samples_split=[20, 50, 100],\n",
    "                  dt__random_state=[100, 200]\n",
    "                 )\n",
    "            \n",
    "clf = GridSearchCV(pipe, parameters)\n",
    "clf = clf.fit(features, labels)\n",
    "\n",
    "test_classifier(clf, my_dataset, features_list)"
   ]
  },
  {
   "cell_type": "code",
   "execution_count": 62,
   "metadata": {
    "collapsed": true
   },
   "outputs": [],
   "source": [
    "dump_classifier_and_data(clf, my_dataset, features_list)"
   ]
  },
  {
   "cell_type": "markdown",
   "metadata": {},
   "source": [
    "# Validate and Evaluate\n",
    "Validation is important because it gives an estimate of the performance of an independent dataset and serves as a check for overfitting."
   ]
  },
  {
   "cell_type": "markdown",
   "metadata": {},
   "source": [
    "## Evaluation Metrics"
   ]
  },
  {
   "cell_type": "markdown",
   "metadata": {
    "collapsed": true
   },
   "source": [
    "### Recall.\n",
    "\n",
    "true positives / true positives + false negatives\n",
    "\n",
    "good recall:\n",
    "Whenever the target (in our case POI) shows up in the data set, we can identify it almost every time. he cost of this is that we sometimes get some false positives."
   ]
  },
  {
   "cell_type": "markdown",
   "metadata": {},
   "source": [
    "### Precision.\n",
    "true positives / true positives + false positives\n",
    "\n",
    "good precision: \n",
    "Whenever the target (in our case POI) gets flagged in the data set, it is very likely to be a real target and not a false alarm. "
   ]
  },
  {
   "cell_type": "markdown",
   "metadata": {},
   "source": [
    "###  F1 score.\n",
    "This score is a measure of a test's accuracy. It considers recall and precision.\n",
    "\n",
    "good f1 score:\n",
    "This is the best of both worlds. Both my false positive and false negative rates are low."
   ]
  },
  {
   "cell_type": "markdown",
   "metadata": {},
   "source": [
    "## Validation Strategy"
   ]
  },
  {
   "cell_type": "code",
   "execution_count": 63,
   "metadata": {
    "collapsed": false
   },
   "outputs": [
    {
     "name": "stdout",
     "output_type": "stream",
     "text": [
      "0.862068965517\n"
     ]
    }
   ],
   "source": [
    "from sklearn import cross_validation\n",
    "\n",
    "features_train, features_test, labels_train, labels_test = cross_validation.train_test_split(\n",
    "    features, labels, test_size=0.4, random_state=0)\n",
    "\n",
    "clf.fit(features_train, labels_train)\n",
    "\n",
    "print clf.score(features_test, labels_test)"
   ]
  },
  {
   "cell_type": "markdown",
   "metadata": {},
   "source": [
    "### References\n",
    "\n",
    "http://scikit-learn.org\n",
    "\n",
    "http://maciejjaskowski.github.io/2016/01/22/pandas-scikit-workflow.html\n",
    "\n",
    "http://machinelearningmastery.com/feature-selection-machine-learning-python/\n",
    "\n",
    "https://en.wikipedia.org/wiki/F1_score\n",
    "\n",
    "https://discussions.udacity.com/t/errors-when-using-selectkbest-in-final-project/170706/6\n"
   ]
  }
 ],
 "metadata": {
  "anaconda-cloud": {},
  "kernelspec": {
   "display_name": "Python [Root]",
   "language": "python",
   "name": "Python [Root]"
  },
  "language_info": {
   "codemirror_mode": {
    "name": "ipython",
    "version": 2
   },
   "file_extension": ".py",
   "mimetype": "text/x-python",
   "name": "python",
   "nbconvert_exporter": "python",
   "pygments_lexer": "ipython2",
   "version": "2.7.13"
  }
 },
 "nbformat": 4,
 "nbformat_minor": 0
}
