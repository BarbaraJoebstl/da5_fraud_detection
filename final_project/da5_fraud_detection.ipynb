{
 "cells": [
  {
   "cell_type": "code",
   "execution_count": 1,
   "metadata": {
    "collapsed": false
   },
   "outputs": [],
   "source": [
    "#!/usr/bin/python\n",
    "%matplotlib inline \n",
    "\n",
    "import sys\n",
    "import pickle\n",
    "import json\n",
    "import numpy as np\n",
    "import pandas as pd\n",
    "import matplotlib.pyplot as plt\n",
    "import seaborn as sns\n",
    "\n",
    "\n",
    "sys.path.append(\"../tools/\")"
   ]
  },
  {
   "cell_type": "markdown",
   "metadata": {},
   "source": [
    "# Data Exploration"
   ]
  },
  {
   "cell_type": "code",
   "execution_count": 2,
   "metadata": {
    "collapsed": false
   },
   "outputs": [
    {
     "name": "stdout",
     "output_type": "stream",
     "text": [
      "-----------------------------------------\n",
      "Data Example:  [\n",
      "  {\n",
      "    \"salary\": 365788, \n",
      "    \"to_messages\": 807, \n",
      "    \"deferral_payments\": \"NaN\", \n",
      "    \"total_payments\": 1061827, \n",
      "    \"exercised_stock_options\": \"NaN\", \n",
      "    \"bonus\": 600000, \n",
      "    \"restricted_stock\": 585062, \n",
      "    \"shared_receipt_with_poi\": 702, \n",
      "    \"restricted_stock_deferred\": \"NaN\", \n",
      "    \"total_stock_value\": 585062, \n",
      "    \"expenses\": 94299, \n",
      "    \"loan_advances\": \"NaN\", \n",
      "    \"from_messages\": 29, \n",
      "    \"other\": 1740, \n",
      "    \"from_this_person_to_poi\": 1, \n",
      "    \"poi\": false, \n",
      "    \"director_fees\": \"NaN\", \n",
      "    \"deferred_income\": \"NaN\", \n",
      "    \"long_term_incentive\": \"NaN\", \n",
      "    \"email_address\": \"mark.metts@enron.com\", \n",
      "    \"from_poi_to_this_person\": 38\n",
      "  }\n",
      "]\n",
      "-----------------------------------------\n",
      "Total number of data points: 146\n"
     ]
    }
   ],
   "source": [
    "### Load the dictionary containing the dataset\n",
    "with open(\"final_project_dataset.pkl\", \"r\") as data_file:\n",
    "    data_dict = pickle.load(data_file)\n",
    "\n",
    "first_data_item = [v for v in data_dict.values()[:1]]\n",
    "print '-----------------------------------------'\n",
    "print 'Data Example: ', (json.dumps(first_data_item, indent=2))\n",
    "\n",
    "data_points = len(data_dict)\n",
    "print '-----------------------------------------'\n",
    "print 'Total number of data points:', data_points\n",
    " \n",
    "# add all features first to list and check the NaNs \n",
    "# 'poi' has to be first, because it is the target\n",
    "features_list = ['poi',\n",
    "                 'salary', \"to_messages\", \n",
    "                 \"total_payments\",      \n",
    "    \"exercised_stock_options\", \n",
    "    \"bonus\", \n",
    "    \"restricted_stock\", \n",
    "    \"shared_receipt_with_poi\", \n",
    "    \"restricted_stock_deferred\", \n",
    "    \"total_stock_value\", \n",
    "    \"expenses\", \n",
    "    \"loan_advances\", \n",
    "    \"from_messages\", \n",
    "    \"from_this_person_to_poi\", \n",
    "    \"director_fees\", \n",
    "    \"deferred_income\", \n",
    "    \"long_term_incentive\", \n",
    "    \"from_poi_to_this_person\"] \n"
   ]
  },
  {
   "cell_type": "code",
   "execution_count": 3,
   "metadata": {
    "collapsed": false
   },
   "outputs": [
    {
     "name": "stdout",
     "output_type": "stream",
     "text": [
      "<class 'pandas.core.frame.DataFrame'>\n",
      "Index: 146 entries, ALLEN PHILLIP K to YEAP SOON\n",
      "Data columns (total 18 columns):\n",
      "poi                          146 non-null bool\n",
      "salary                       95 non-null float64\n",
      "to_messages                  86 non-null float64\n",
      "total_payments               125 non-null float64\n",
      "exercised_stock_options      102 non-null float64\n",
      "bonus                        82 non-null float64\n",
      "restricted_stock             110 non-null float64\n",
      "shared_receipt_with_poi      86 non-null float64\n",
      "restricted_stock_deferred    18 non-null float64\n",
      "total_stock_value            126 non-null float64\n",
      "expenses                     95 non-null float64\n",
      "loan_advances                4 non-null float64\n",
      "from_messages                86 non-null float64\n",
      "from_this_person_to_poi      86 non-null float64\n",
      "director_fees                17 non-null float64\n",
      "deferred_income              49 non-null float64\n",
      "long_term_incentive          66 non-null float64\n",
      "from_poi_to_this_person      86 non-null float64\n",
      "dtypes: bool(1), float64(17)\n",
      "memory usage: 20.7+ KB\n"
     ]
    }
   ],
   "source": [
    "# load data into a dataframe \n",
    "df = pd.DataFrame.from_dict(data_dict, orient = 'index')\n",
    "# replace the NaN for our exploration - undo it for the machine learning part\n",
    "df = df.replace('NaN', np.nan)\n",
    "df = df[features_list]\n",
    "df.info()"
   ]
  },
  {
   "cell_type": "markdown",
   "metadata": {},
   "source": [
    "'restricted_stock_deferred', 'loan_advances' and 'director_fees' have at least 88.7% of NaN values. But this does not mean, that the features are no good. Maybe they will do a good work in combination with other features. So (for now) we are going to keep all features."
   ]
  },
  {
   "cell_type": "code",
   "execution_count": 4,
   "metadata": {
    "collapsed": false
   },
   "outputs": [
    {
     "name": "stdout",
     "output_type": "stream",
     "text": [
      "Amount of NaN values in the dataset:  1163\n"
     ]
    }
   ],
   "source": [
    "print \"Amount of NaN values in the dataset: \", df.isnull().sum().sum()\n",
    "# Todo compare total and nan"
   ]
  },
  {
   "cell_type": "code",
   "execution_count": 5,
   "metadata": {
    "collapsed": false
   },
   "outputs": [
    {
     "data": {
      "text/plain": [
       "non persons of interest    128\n",
       "persons of interest         18\n",
       "Name: poi, dtype: int64"
      ]
     },
     "execution_count": 5,
     "metadata": {},
     "output_type": "execute_result"
    }
   ],
   "source": [
    "poi_to_non_poi = df.poi.value_counts()\n",
    "poi_to_non_poi.index=['non persons of interest', 'persons of interest']\n",
    "\n",
    "poi_to_non_poi"
   ]
  },
  {
   "cell_type": "markdown",
   "metadata": {},
   "source": [
    "### Features"
   ]
  },
  {
   "cell_type": "code",
   "execution_count": 6,
   "metadata": {
    "collapsed": false
   },
   "outputs": [
    {
     "data": {
      "text/html": [
       "<div>\n",
       "<table border=\"1\" class=\"dataframe\">\n",
       "  <thead>\n",
       "    <tr style=\"text-align: right;\">\n",
       "      <th></th>\n",
       "      <th>poi</th>\n",
       "      <th>salary</th>\n",
       "      <th>to_messages</th>\n",
       "      <th>total_payments</th>\n",
       "      <th>exercised_stock_options</th>\n",
       "      <th>bonus</th>\n",
       "      <th>restricted_stock</th>\n",
       "      <th>shared_receipt_with_poi</th>\n",
       "      <th>restricted_stock_deferred</th>\n",
       "      <th>total_stock_value</th>\n",
       "      <th>expenses</th>\n",
       "      <th>loan_advances</th>\n",
       "      <th>from_messages</th>\n",
       "      <th>from_this_person_to_poi</th>\n",
       "      <th>director_fees</th>\n",
       "      <th>deferred_income</th>\n",
       "      <th>long_term_incentive</th>\n",
       "      <th>from_poi_to_this_person</th>\n",
       "    </tr>\n",
       "  </thead>\n",
       "  <tbody>\n",
       "    <tr>\n",
       "      <th>LOCKHART EUGENE E</th>\n",
       "      <td>False</td>\n",
       "      <td>NaN</td>\n",
       "      <td>NaN</td>\n",
       "      <td>NaN</td>\n",
       "      <td>NaN</td>\n",
       "      <td>NaN</td>\n",
       "      <td>NaN</td>\n",
       "      <td>NaN</td>\n",
       "      <td>NaN</td>\n",
       "      <td>NaN</td>\n",
       "      <td>NaN</td>\n",
       "      <td>NaN</td>\n",
       "      <td>NaN</td>\n",
       "      <td>NaN</td>\n",
       "      <td>NaN</td>\n",
       "      <td>NaN</td>\n",
       "      <td>NaN</td>\n",
       "      <td>NaN</td>\n",
       "    </tr>\n",
       "    <tr>\n",
       "      <th>THE TRAVEL AGENCY IN THE PARK</th>\n",
       "      <td>False</td>\n",
       "      <td>NaN</td>\n",
       "      <td>NaN</td>\n",
       "      <td>362096.0</td>\n",
       "      <td>NaN</td>\n",
       "      <td>NaN</td>\n",
       "      <td>NaN</td>\n",
       "      <td>NaN</td>\n",
       "      <td>NaN</td>\n",
       "      <td>NaN</td>\n",
       "      <td>NaN</td>\n",
       "      <td>NaN</td>\n",
       "      <td>NaN</td>\n",
       "      <td>NaN</td>\n",
       "      <td>NaN</td>\n",
       "      <td>NaN</td>\n",
       "      <td>NaN</td>\n",
       "      <td>NaN</td>\n",
       "    </tr>\n",
       "    <tr>\n",
       "      <th>WODRASKA JOHN</th>\n",
       "      <td>False</td>\n",
       "      <td>NaN</td>\n",
       "      <td>NaN</td>\n",
       "      <td>189583.0</td>\n",
       "      <td>NaN</td>\n",
       "      <td>NaN</td>\n",
       "      <td>NaN</td>\n",
       "      <td>NaN</td>\n",
       "      <td>NaN</td>\n",
       "      <td>NaN</td>\n",
       "      <td>NaN</td>\n",
       "      <td>NaN</td>\n",
       "      <td>NaN</td>\n",
       "      <td>NaN</td>\n",
       "      <td>NaN</td>\n",
       "      <td>NaN</td>\n",
       "      <td>NaN</td>\n",
       "      <td>NaN</td>\n",
       "    </tr>\n",
       "  </tbody>\n",
       "</table>\n",
       "</div>"
      ],
      "text/plain": [
       "                                 poi  salary  to_messages  total_payments  \\\n",
       "LOCKHART EUGENE E              False     NaN          NaN             NaN   \n",
       "THE TRAVEL AGENCY IN THE PARK  False     NaN          NaN        362096.0   \n",
       "WODRASKA JOHN                  False     NaN          NaN        189583.0   \n",
       "\n",
       "                               exercised_stock_options  bonus  \\\n",
       "LOCKHART EUGENE E                                  NaN    NaN   \n",
       "THE TRAVEL AGENCY IN THE PARK                      NaN    NaN   \n",
       "WODRASKA JOHN                                      NaN    NaN   \n",
       "\n",
       "                               restricted_stock  shared_receipt_with_poi  \\\n",
       "LOCKHART EUGENE E                           NaN                      NaN   \n",
       "THE TRAVEL AGENCY IN THE PARK               NaN                      NaN   \n",
       "WODRASKA JOHN                               NaN                      NaN   \n",
       "\n",
       "                               restricted_stock_deferred  total_stock_value  \\\n",
       "LOCKHART EUGENE E                                    NaN                NaN   \n",
       "THE TRAVEL AGENCY IN THE PARK                        NaN                NaN   \n",
       "WODRASKA JOHN                                        NaN                NaN   \n",
       "\n",
       "                               expenses  loan_advances  from_messages  \\\n",
       "LOCKHART EUGENE E                   NaN            NaN            NaN   \n",
       "THE TRAVEL AGENCY IN THE PARK       NaN            NaN            NaN   \n",
       "WODRASKA JOHN                       NaN            NaN            NaN   \n",
       "\n",
       "                               from_this_person_to_poi  director_fees  \\\n",
       "LOCKHART EUGENE E                                  NaN            NaN   \n",
       "THE TRAVEL AGENCY IN THE PARK                      NaN            NaN   \n",
       "WODRASKA JOHN                                      NaN            NaN   \n",
       "\n",
       "                               deferred_income  long_term_incentive  \\\n",
       "LOCKHART EUGENE E                          NaN                  NaN   \n",
       "THE TRAVEL AGENCY IN THE PARK              NaN                  NaN   \n",
       "WODRASKA JOHN                              NaN                  NaN   \n",
       "\n",
       "                               from_poi_to_this_person  \n",
       "LOCKHART EUGENE E                                  NaN  \n",
       "THE TRAVEL AGENCY IN THE PARK                      NaN  \n",
       "WODRASKA JOHN                                      NaN  "
      ]
     },
     "execution_count": 6,
     "metadata": {},
     "output_type": "execute_result"
    }
   ],
   "source": [
    "#count NaNs for each row in dataframe\n",
    "df[df.isnull().sum(axis=1) >= 16]"
   ]
  },
  {
   "cell_type": "markdown",
   "metadata": {},
   "source": [
    "There are four entries that have 13 or more NaN s out of 18. We remove \"LOCKHART EUGENE E\" because this entry only contains NaNs and we will also remove \"THE TRAVEL AGENCY IN THE PARK\", because it contains only on entry and is not a person."
   ]
  },
  {
   "cell_type": "code",
   "execution_count": 7,
   "metadata": {
    "collapsed": false
   },
   "outputs": [
    {
     "data": {
      "text/plain": [
       "{'bonus': 'NaN',\n",
       " 'deferral_payments': 'NaN',\n",
       " 'deferred_income': 'NaN',\n",
       " 'director_fees': 'NaN',\n",
       " 'email_address': 'NaN',\n",
       " 'exercised_stock_options': 'NaN',\n",
       " 'expenses': 'NaN',\n",
       " 'from_messages': 'NaN',\n",
       " 'from_poi_to_this_person': 'NaN',\n",
       " 'from_this_person_to_poi': 'NaN',\n",
       " 'loan_advances': 'NaN',\n",
       " 'long_term_incentive': 'NaN',\n",
       " 'other': 362096,\n",
       " 'poi': False,\n",
       " 'restricted_stock': 'NaN',\n",
       " 'restricted_stock_deferred': 'NaN',\n",
       " 'salary': 'NaN',\n",
       " 'shared_receipt_with_poi': 'NaN',\n",
       " 'to_messages': 'NaN',\n",
       " 'total_payments': 362096,\n",
       " 'total_stock_value': 'NaN'}"
      ]
     },
     "execution_count": 7,
     "metadata": {},
     "output_type": "execute_result"
    }
   ],
   "source": [
    "df = df.drop('TOTAL')\n",
    "df = df.drop('LOCKHART EUGENE E')\n",
    "df = df.drop('THE TRAVEL AGENCY IN THE PARK')\n",
    "\n",
    "data_dict.pop('TOTAL', 0)\n",
    "data_dict.pop('LOCKHART EUGENE E', 0)\n",
    "data_dict.pop('THE TRAVEL AGENCY IN THE PARK', 0)"
   ]
  },
  {
   "cell_type": "markdown",
   "metadata": {},
   "source": [
    "### Identifying outliers"
   ]
  },
  {
   "cell_type": "code",
   "execution_count": 8,
   "metadata": {
    "collapsed": false
   },
   "outputs": [
    {
     "name": "stdout",
     "output_type": "stream",
     "text": [
      "              Bonus       Salaray\n",
      "count  8.100000e+01  9.400000e+01\n",
      "mean   1.201773e+06  2.840875e+05\n",
      "std    1.441679e+06  1.771311e+05\n",
      "min    7.000000e+04  4.770000e+02\n",
      "25%             NaN           NaN\n",
      "50%             NaN           NaN\n",
      "75%             NaN           NaN\n",
      "max    8.000000e+06  1.111258e+06\n",
      "                       salary      bonus\n",
      "SKILLING JEFFREY K  1111258.0  5600000.0\n",
      "LAY KENNETH L       1072321.0  7000000.0\n",
      "FREVERT MARK A      1060932.0  2000000.0\n",
      "PICKERING MARK R     655037.0   300000.0\n",
      "WHALLEY LAWRENCE G   510364.0  3000000.0\n",
      "                       salary      bonus\n",
      "LAVORATO JOHN J      339288.0  8000000.0\n",
      "LAY KENNETH L       1072321.0  7000000.0\n",
      "SKILLING JEFFREY K  1111258.0  5600000.0\n",
      "BELDEN TIMOTHY N     213999.0  5249999.0\n",
      "ALLEN PHILLIP K      201955.0  4175000.0\n",
      "KITCHEN LOUISE       271442.0  3100000.0\n",
      "DELAINEY DAVID W     365163.0  3000000.0\n",
      "WHALLEY LAWRENCE G   510364.0  3000000.0\n",
      "MCMAHON JEFFREY      370448.0  2600000.0\n",
      "FALLON JAMES B       304588.0  2500000.0\n"
     ]
    },
    {
     "name": "stderr",
     "output_type": "stream",
     "text": [
      "/Users/barbara/anaconda2/lib/python2.7/site-packages/numpy/lib/function_base.py:3834: RuntimeWarning: Invalid value encountered in percentile\n",
      "  RuntimeWarning)\n"
     ]
    },
    {
     "data": {
      "text/plain": [
       "<matplotlib.axes._subplots.AxesSubplot at 0x1167afdd0>"
      ]
     },
     "execution_count": 8,
     "metadata": {},
     "output_type": "execute_result"
    },
    {
     "data": {
      "image/png": "[encoded data removed]",
      "text/plain": [
       "<matplotlib.figure.Figure at 0x1167af890>"
      ]
     },
     "metadata": {},
     "output_type": "display_data"
    }
   ],
   "source": [
    "#data_dict.pop(\"TOTAL\", 0) \n",
    "#df = df.drop('TOTAL')\n",
    "money_df = pd.DataFrame({\"Salaray\": df['salary'],\n",
    "                          \"Bonus\": df['bonus']})\n",
    "print money_df.describe()\n",
    "\n",
    "new = df.filter(['salary','bonus'], axis=1)\n",
    "\n",
    "print new.nlargest(5, 'salary')\n",
    "print new.nlargest(10, 'bonus')\n",
    "\n",
    "df.plot.scatter('salary', 'bonus')"
   ]
  },
  {
   "cell_type": "markdown",
   "metadata": {},
   "source": [
    "There is a data point far far away from the others. As the name of this datapoint is \"Total \" it is clear that this is an outlier due to a spreadsheet error. We will remove this datapoint and take a closer look.\n",
    "\n",
    "After removing the spreadsheet error, we can identify some outliers in the salary. SKILLING JEFFREY K, LAY KENNETH L and FREVERT MARK A had a salary over 1.000.000 each. The highest Bonus had LAVORATO JOHN J. with a bonus of 8.000.000. There are some more outliers, but we want to keep this data for our analysis, because those are more likely to be anomalies than outliers."
   ]
  },
  {
   "cell_type": "markdown",
   "metadata": {},
   "source": [
    "# Optimize Feature Selection"
   ]
  },
  {
   "cell_type": "markdown",
   "metadata": {},
   "source": [
    "### Create new features\n",
    "\n",
    "We want to create new features showing the fraction of the POI messages sent, because we think that the messaging between POIs relatively higher than between non POIs. We also suggest that the bonus for POIs is relatively higher than for non POIs."
   ]
  },
  {
   "cell_type": "code",
   "execution_count": 9,
   "metadata": {
    "collapsed": false
   },
   "outputs": [
    {
     "data": {
      "text/plain": [
       "<matplotlib.axes._subplots.AxesSubplot at 0x116b6de50>"
      ]
     },
     "execution_count": 9,
     "metadata": {},
     "output_type": "execute_result"
    },
    {
     "data": {
      "image/png": "[encoded data removed]",
      "text/plain": [
       "<matplotlib.figure.Figure at 0x116a50b50>"
      ]
     },
     "metadata": {},
     "output_type": "display_data"
    },
    {
     "data": {
      "image/png": "[encoded data removed]",
      "text/plain": [
       "<matplotlib.figure.Figure at 0x116a50d10>"
      ]
     },
     "metadata": {},
     "output_type": "display_data"
    },
    {
     "data": {
      "image/png": "[encoded data removed]",
      "text/plain": [
       "<matplotlib.figure.Figure at 0x116a1a890>"
      ]
     },
     "metadata": {},
     "output_type": "display_data"
    }
   ],
   "source": [
    "# dataframe\n",
    "df['fraction_to_poi'] = df['from_this_person_to_poi'] / df['to_messages']\n",
    "df['fraction_from_poi'] = df['from_poi_to_this_person'] / df['from_messages']\n",
    "\n",
    "df.plot.scatter('from_messages', 'from_this_person_to_poi')\n",
    "df.plot.scatter('to_messages', 'from_poi_to_this_person')\n",
    "\n",
    "#plot new features\n",
    "df.plot.scatter('fraction_to_poi', 'fraction_from_poi')  "
   ]
  },
  {
   "cell_type": "code",
   "execution_count": 10,
   "metadata": {
    "collapsed": false
   },
   "outputs": [
    {
     "data": {
      "text/plain": [
       "<matplotlib.text.Text at 0x106b905d0>"
      ]
     },
     "execution_count": 10,
     "metadata": {},
     "output_type": "execute_result"
    },
    {
     "data": {
      "image/png": "[encoded data removed]",
      "text/plain": [
       "<matplotlib.figure.Figure at 0x1167aff10>"
      ]
     },
     "metadata": {},
     "output_type": "display_data"
    }
   ],
   "source": [
    "# bonus to total_payments\n",
    "df['fraction_bonus'] = df['total_payments'] / df['bonus']\n",
    "\n",
    "# add a new column with bins for fraction bonus\n",
    "def get_fraction_bonus_bins(fraction_bonus):\n",
    "    fraction_bonus_bins = fraction_bonus\n",
    "    if fraction_bonus > 4 and fraction_bonus <= 10:\n",
    "        return '5 - 10'\n",
    "    elif fraction_bonus > 0 and fraction_bonus < 5:\n",
    "        return '0 - 4'\n",
    "    elif fraction_bonus > 10:\n",
    "        return 'bigger than 10'\n",
    "    else:\n",
    "        return 'nan'\n",
    "\n",
    "df['fraction_bonus_bins'] = df['fraction_bonus'].apply(get_fraction_bonus_bins)\n",
    "\n",
    "df.groupby('poi')['fraction_bonus_bins'].value_counts().unstack().plot(kind = 'bar')\n",
    "plt.xticks([0, 1], ['Not a person of interest', 'person of interest'], rotation = 0)\n",
    "plt.title('Fraction bonus in bins by poi')"
   ]
  },
  {
   "cell_type": "code",
   "execution_count": 11,
   "metadata": {
    "collapsed": false
   },
   "outputs": [
    {
     "name": "stderr",
     "output_type": "stream",
     "text": [
      "/Users/barbara/anaconda2/lib/python2.7/site-packages/sklearn/cross_validation.py:44: DeprecationWarning: This module was deprecated in version 0.18 in favor of the model_selection module into which all the refactored classes and functions are moved. Also note that the interface of the new CV iterators are different from that of this module. This module will be removed in 0.20.\n",
      "  \"This module will be removed in 0.20.\", DeprecationWarning)\n"
     ]
    }
   ],
   "source": [
    "#Test old features list - without feature selection\n",
    "\n",
    "from feature_format import featureFormat, targetFeatureSplit\n",
    "from tester import dump_classifier_and_data, test_classifier\n",
    "\n",
    "my_dataset = data_dict  \n",
    "\n",
    "# Extract features and labels from dataset for local testing\n",
    "data = featureFormat(my_dataset, features_list)\n",
    "labels, features = targetFeatureSplit(data)"
   ]
  },
  {
   "cell_type": "code",
   "execution_count": 12,
   "metadata": {
    "collapsed": false
   },
   "outputs": [],
   "source": [
    "# once again  - create new features and add them to the data dict:\n",
    "for k in data_dict.keys():\n",
    "    data_dict[k]['ratio_from_poi'] = 0\n",
    "    if (data_dict[k]['from_poi_to_this_person'] != 'NaN') and (data_dict[k]['from_messages'] != 'NaN') and (data_dict[k]['from_messages'] != 0):\n",
    "        data_dict[k]['ratio_from_poi'] = float(data_dict[k]['from_poi_to_this_person'])/float(data_dict[k]['from_messages'])\n",
    "features_list.append('ratio_from_poi')\n",
    "\n",
    "for k in data_dict.keys():\n",
    "    data_dict[k]['ratio_to_poi'] = 0\n",
    "    if (data_dict[k]['from_this_person_to_poi'] != 'NaN') and (data_dict[k]['to_messages'] != 'NaN') and (data_dict[k]['to_messages'] != 0):\n",
    "        data_dict[k]['ratio_to_poi'] = float(data_dict[k]['from_this_person_to_poi'])/float(data_dict[k]['to_messages'])\n",
    "features_list.append('ratio_to_poi')\n",
    "\n",
    "for k in data_dict.keys():\n",
    "    data_dict[k]['ratio_bonus'] = 0\n",
    "    if (data_dict[k]['total_payments'] != 'NaN') and (data_dict[k]['bonus'] != 'NaN') and (data_dict[k]['bonus'] != 0):\n",
    "        data_dict[k]['ratio_bonus'] = float(data_dict[k]['total_payments'])/float(data_dict[k]['bonus'])\n",
    "features_list.append('ratio_bonus')"
   ]
  },
  {
   "cell_type": "code",
   "execution_count": 13,
   "metadata": {
    "collapsed": false
   },
   "outputs": [
    {
     "name": "stdout",
     "output_type": "stream",
     "text": [
      "DecisionTreeClassifier(class_weight=None, criterion='gini', max_depth=None,\n",
      "            max_features=None, max_leaf_nodes=None,\n",
      "            min_impurity_split=1e-07, min_samples_leaf=1,\n",
      "            min_samples_split=2, min_weight_fraction_leaf=0.0,\n",
      "            presort=False, random_state=None, splitter='best')\n",
      "\tAccuracy: 0.80740\tPrecision: 0.26544\tRecall: 0.25150\tF1: 0.25828\tF2: 0.25417\n",
      "\tTotal predictions: 15000\tTrue positives:  503\tFalse positives: 1392\tFalse negatives: 1497\tTrue negatives: 11608\n",
      "\n"
     ]
    }
   ],
   "source": [
    "import numpy\n",
    "from sklearn import tree\n",
    "\n",
    "# show scores of features list without new features\n",
    "clf = tree.DecisionTreeClassifier()\n",
    "test_classifier(clf, my_dataset, features_list)"
   ]
  },
  {
   "cell_type": "code",
   "execution_count": 14,
   "metadata": {
    "collapsed": false
   },
   "outputs": [],
   "source": [
    "my_dataset = data_dict  \n",
    "data = featureFormat(my_dataset, features_list)\n",
    "labels, features = targetFeatureSplit(data)"
   ]
  },
  {
   "cell_type": "code",
   "execution_count": 15,
   "metadata": {
    "collapsed": false
   },
   "outputs": [
    {
     "name": "stdout",
     "output_type": "stream",
     "text": [
      "DecisionTreeClassifier(class_weight=None, criterion='gini', max_depth=None,\n",
      "            max_features=None, max_leaf_nodes=None,\n",
      "            min_impurity_split=1e-07, min_samples_leaf=1,\n",
      "            min_samples_split=2, min_weight_fraction_leaf=0.0,\n",
      "            presort=False, random_state=None, splitter='best')\n",
      "\tAccuracy: 0.80493\tPrecision: 0.26109\tRecall: 0.25300\tF1: 0.25698\tF2: 0.25458\n",
      "\tTotal predictions: 15000\tTrue positives:  506\tFalse positives: 1432\tFalse negatives: 1494\tTrue negatives: 11568\n",
      "\n"
     ]
    }
   ],
   "source": [
    "# show scores of features list with new features\n",
    "clf = tree.DecisionTreeClassifier()\n",
    "test_classifier(clf, my_dataset, features_list)"
   ]
  },
  {
   "cell_type": "markdown",
   "metadata": {},
   "source": [
    "With the new features we are able to improve the accuracy from 0.79015 to 0.79146."
   ]
  },
  {
   "cell_type": "markdown",
   "metadata": {},
   "source": [
    "## Select Features"
   ]
  },
  {
   "cell_type": "markdown",
   "metadata": {},
   "source": [
    "By selecting (the best) features we want to \n",
    "- reduce overfitting\n",
    "- improve accuracy\n",
    "- reduce training time\n",
    "\n",
    "Because we don't know how many features to use, we want to take a look at the scores depending on the number of features in the first step."
   ]
  },
  {
   "cell_type": "code",
   "execution_count": 16,
   "metadata": {
    "collapsed": false
   },
   "outputs": [
    {
     "name": "stdout",
     "output_type": "stream",
     "text": [
      "21\n"
     ]
    }
   ],
   "source": [
    "print len(features_list)"
   ]
  },
  {
   "cell_type": "code",
   "execution_count": 17,
   "metadata": {
    "collapsed": false
   },
   "outputs": [],
   "source": [
    "from sklearn.feature_selection import SelectKBest\n",
    "# Univariate feature selection\n",
    "# Get best features\n",
    "\n",
    "k_best = SelectKBest(k='all')\n",
    "k_best.fit(features, labels)\n",
    "scores = k_best.scores_\n",
    "unsorted_pairs = zip(features_list[1:], scores)\n",
    "sorted_pairs = list(reversed(sorted(unsorted_pairs, key=lambda x: x[1])))"
   ]
  },
  {
   "cell_type": "code",
   "execution_count": 18,
   "metadata": {
    "collapsed": false
   },
   "outputs": [],
   "source": [
    "sorted_pairs_kb_df = pd.DataFrame.from_dict(sorted_pairs)\n",
    "sorted_list = sorted_pairs_kb_df[0].tolist()\n",
    "sorted_list.insert(0, 'poi')"
   ]
  },
  {
   "cell_type": "markdown",
   "metadata": {},
   "source": [
    "## SELECT KBEST\n",
    "\n",
    "Select features according to the k highest scores."
   ]
  },
  {
   "cell_type": "code",
   "execution_count": 19,
   "metadata": {
    "collapsed": false
   },
   "outputs": [
    {
     "data": {
      "text/plain": [
       "<matplotlib.axes._subplots.AxesSubplot at 0x11a0421d0>"
      ]
     },
     "execution_count": 19,
     "metadata": {},
     "output_type": "execute_result"
    },
    {
     "data": {
      "image/png": "[encoded data removed]",
      "text/plain": [
       "<matplotlib.figure.Figure at 0x119e24c90>"
      ]
     },
     "metadata": {},
     "output_type": "display_data"
    }
   ],
   "source": [
    "from amount_of_features import test_classifier_by_feature_length, calc_for_features_list_length\n",
    "\n",
    "# check out number the best number of features by k best selection\n",
    "clf = tree.DecisionTreeClassifier()\n",
    "no_features_tree = calc_for_features_list_length(clf, my_dataset, sorted_list)\n",
    "\n",
    "no_features_tree_df = pd.DataFrame.from_dict(no_features_tree)\n",
    "no_features_tree_df = no_features_tree_df.T\n",
    "\n",
    "no_features_tree_df.plot.line(marker='.', \n",
    "                              markersize=10,\n",
    "                              title='Scores by number of k best features'\n",
    "                             )"
   ]
  },
  {
   "cell_type": "markdown",
   "metadata": {},
   "source": [
    "As we can see in the plot in the plot above, the best scores can be achieved when we use the 4 best features of select k best. Next we want to look if PCA and check if this is able to achieve better scores.\n",
    "\n",
    "## Principle Component Analysis\n",
    "For selecting Features PCA is better, because it takes the features and creates new ones superior to original attributes.\n",
    "\n",
    "Principal Component of a dataset is the direction that has the largest variance*, because it retains the max amoutn of information of the original data. \n",
    "\n",
    "Systematized way to transform input features into principle components\n",
    "Use principal components as new features\n",
    "PCs are directions in data that maximize variance (minimize information loss) whe you project/compress down onto them. More variance of data along a PC, higher that PC is ranked\n",
    "Most variance/most information -> first PC\n",
    "Second most variance (without overlapping w/ first PC) -> second PC\n",
    "Max no. of Pcs = no. of input features\n",
    "\n",
    "We want to use PCA when latent features driving the patterns in data\n",
    "We need dimensionality reduction for visualizing high-dimensional data, reduce noise and\n",
    "make other algorithms (regression, classification) work better we fewer inputs \n",
    "\n",
    "*Variance: \"spread of data distribution\" -> similar to standard deviation"
   ]
  },
  {
   "cell_type": "code",
   "execution_count": 20,
   "metadata": {
    "collapsed": false
   },
   "outputs": [],
   "source": [
    "from sklearn.decomposition import PCA\n",
    "from sklearn.pipeline import Pipeline\n",
    "\n",
    "def doPCA(number):\n",
    "    pca = PCA(n_components=number)\n",
    "    pca.fit(data)\n",
    "    return pca\n",
    "    \n",
    "def calc_for_features_list_length_pca(my_dataset, features_list):\n",
    "    count = len(features_list)\n",
    "    features_scores_pca = {}\n",
    "    while count > 2:\n",
    "        count = count - 1\n",
    "        dt = tree.DecisionTreeClassifier()\n",
    "       \n",
    "        pca = doPCA(count)\n",
    "        \n",
    "        clf = Pipeline(steps=[('pca', pca), ('dt', dt)])\n",
    "                \n",
    "        accuracy, f_score, precision, recall = test_classifier_by_feature_length(\n",
    "            clf, my_dataset, features_list)\n",
    "        features_scores_pca[count] = {'accuracy': accuracy, 'f1': f_score, 'precision': precision, 'recall': recall}\n",
    "\n",
    "    return features_scores_pca"
   ]
  },
  {
   "cell_type": "code",
   "execution_count": 21,
   "metadata": {
    "collapsed": false
   },
   "outputs": [
    {
     "data": {
      "text/plain": [
       "<matplotlib.axes._subplots.AxesSubplot at 0x116b63210>"
      ]
     },
     "execution_count": 21,
     "metadata": {},
     "output_type": "execute_result"
    },
    {
     "data": {
      "image/png": "[encoded data removed]",
      "text/plain": [
       "<matplotlib.figure.Figure at 0x116a0b550>"
      ]
     },
     "metadata": {},
     "output_type": "display_data"
    }
   ],
   "source": [
    "no_features_tree_pca = calc_for_features_list_length_pca(my_dataset, features_list)\n",
    "no_features_tree_pca_df = pd.DataFrame.from_dict(no_features_tree_pca)\n",
    "no_features_tree_pca_df = no_features_tree_pca_df.T\n",
    "no_features_tree_pca_df.plot.line(marker='.', \n",
    "                              markersize=10,\n",
    "                              title='Scores by number of PCA best features'\n",
    "                            )"
   ]
  },
  {
   "cell_type": "markdown",
   "metadata": {},
   "source": [
    "As the plot above shows the best scores can be achieved with using the best 19 features. But the best scores of PCA are worse than those of SelectK Best. Regarding the calculating time of the program and the scores, we suggest that is is better to use SelectK Best, because only 4 features are needed to get scores around 0.4."
   ]
  },
  {
   "cell_type": "code",
   "execution_count": 22,
   "metadata": {
    "collapsed": false
   },
   "outputs": [
    {
     "name": "stdout",
     "output_type": "stream",
     "text": [
      "['poi', 'exercised_stock_options', 'total_stock_value', 'bonus', 'salary']\n"
     ]
    }
   ],
   "source": [
    "k_best = SelectKBest(k=4)\n",
    "k_best.fit(features, labels)\n",
    "scores = k_best.scores_\n",
    "unsorted_pairs = zip(features_list[1:], scores)\n",
    "sorted_pairs = list(reversed(sorted(unsorted_pairs, key=lambda x: x[1])))\n",
    "\n",
    "sorted_pairs_kb_df = pd.DataFrame.from_dict(sorted_pairs)\n",
    "best_features_list = sorted_pairs_kb_df[0].tolist()\n",
    "best_features_list.insert(0, 'poi')\n",
    "best_features_list = best_features_list[:5]\n",
    "print best_features_list"
   ]
  },
  {
   "cell_type": "markdown",
   "metadata": {},
   "source": [
    "# Pick and Tune an Algorithm"
   ]
  },
  {
   "cell_type": "markdown",
   "metadata": {},
   "source": [
    "*Naive Baies.*\n",
    "Does Feature scaling by design, so we don't need to scale our features before."
   ]
  },
  {
   "cell_type": "code",
   "execution_count": 23,
   "metadata": {
    "collapsed": false,
    "scrolled": true
   },
   "outputs": [
    {
     "name": "stdout",
     "output_type": "stream",
     "text": [
      "GaussianNB(priors=None)\n",
      "\tAccuracy: 0.84677\tPrecision: 0.50312\tRecall: 0.32300\tF1: 0.39342\tF2: 0.34791\n",
      "\tTotal predictions: 13000\tTrue positives:  646\tFalse positives:  638\tFalse negatives: 1354\tTrue negatives: 10362\n",
      "\n"
     ]
    }
   ],
   "source": [
    "from sklearn.naive_bayes import GaussianNB\n",
    "clf = GaussianNB()\n",
    "test_classifier(clf, my_dataset, best_features_list)"
   ]
  },
  {
   "cell_type": "markdown",
   "metadata": {
    "collapsed": false
   },
   "source": [
    "*SVM.*\n",
    "Needs Feature Scaling, because SVMs assume that the data it works with is in a standard range, usually either 0 to 1, or -1 to 1 (roughly). So the normalization of feature vectors prior to feeding them to the SVM is very important. "
   ]
  },
  {
   "cell_type": "code",
   "execution_count": 24,
   "metadata": {
    "collapsed": false
   },
   "outputs": [
    {
     "name": "stdout",
     "output_type": "stream",
     "text": [
      "Pipeline(steps=[('scale', StandardScaler(copy=True, with_mean=True, with_std=True)), ('svc', SVC(C=1.0, cache_size=200, class_weight=None, coef0=0.0,\n",
      "  decision_function_shape=None, degree=3, gamma='auto', kernel='linear',\n",
      "  max_iter=-1, probability=False, random_state=None, shrinking=True,\n",
      "  tol=0.001, verbose=False))])\n",
      "\tAccuracy: 0.84808\tPrecision: 0.53351\tRecall: 0.09950\tF1: 0.16772\tF2: 0.11883\n",
      "\tTotal predictions: 13000\tTrue positives:  199\tFalse positives:  174\tFalse negatives: 1801\tTrue negatives: 10826\n",
      "\n"
     ]
    }
   ],
   "source": [
    "from sklearn.svm import SVC\n",
    "from sklearn.preprocessing import StandardScaler\n",
    "\n",
    "svc = SVC(kernel=\"linear\")\n",
    "clf = Pipeline(steps=[('scale', StandardScaler()), ('svc', svc)])\n",
    "test_classifier(clf, my_dataset, best_features_list)"
   ]
  },
  {
   "cell_type": "markdown",
   "metadata": {
    "collapsed": true
   },
   "source": [
    "*Knn.*\n",
    "Because this algorithm measure the distances between pairs of samples, we have to scale the features."
   ]
  },
  {
   "cell_type": "code",
   "execution_count": 25,
   "metadata": {
    "collapsed": false
   },
   "outputs": [
    {
     "name": "stdout",
     "output_type": "stream",
     "text": [
      "Pipeline(steps=[('scale', StandardScaler(copy=True, with_mean=True, with_std=True)), ('knn', KNeighborsClassifier(algorithm='auto', leaf_size=30, metric='minkowski',\n",
      "           metric_params=None, n_jobs=1, n_neighbors=5, p=2,\n",
      "           weights='uniform'))])\n",
      "\tAccuracy: 0.84185\tPrecision: 0.37273\tRecall: 0.04100\tF1: 0.07387\tF2: 0.04988\n",
      "\tTotal predictions: 13000\tTrue positives:   82\tFalse positives:  138\tFalse negatives: 1918\tTrue negatives: 10862\n",
      "\n"
     ]
    }
   ],
   "source": [
    "from sklearn.neighbors import KNeighborsClassifier\n",
    "knn = KNeighborsClassifier()\n",
    "\n",
    "clf = Pipeline(steps=[('scale', StandardScaler()), ('knn', knn)])\n",
    "test_classifier(clf, my_dataset, best_features_list)"
   ]
  },
  {
   "cell_type": "markdown",
   "metadata": {
    "collapsed": true
   },
   "source": [
    "*DecisionTree.* Does not require feature scaling."
   ]
  },
  {
   "cell_type": "code",
   "execution_count": 26,
   "metadata": {
    "collapsed": false
   },
   "outputs": [
    {
     "name": "stdout",
     "output_type": "stream",
     "text": [
      "DecisionTreeClassifier(class_weight=None, criterion='gini', max_depth=None,\n",
      "            max_features=None, max_leaf_nodes=None,\n",
      "            min_impurity_split=1e-07, min_samples_leaf=1,\n",
      "            min_samples_split=2, min_weight_fraction_leaf=0.0,\n",
      "            presort=False, random_state=None, splitter='best')\n",
      "\tAccuracy: 0.79008\tPrecision: 0.32280\tRecall: 0.33200\tF1: 0.32734\tF2: 0.33012\n",
      "\tTotal predictions: 13000\tTrue positives:  664\tFalse positives: 1393\tFalse negatives: 1336\tTrue negatives: 9607\n",
      "\n"
     ]
    }
   ],
   "source": [
    "from sklearn import tree\n",
    "\n",
    "clf = tree.DecisionTreeClassifier()\n",
    "test_classifier(clf, my_dataset, best_features_list)"
   ]
  },
  {
   "cell_type": "markdown",
   "metadata": {
    "collapsed": true
   },
   "source": [
    "*Random Forest*. Does not require feature scaling."
   ]
  },
  {
   "cell_type": "code",
   "execution_count": 27,
   "metadata": {
    "collapsed": false
   },
   "outputs": [
    {
     "name": "stdout",
     "output_type": "stream",
     "text": [
      "RandomForestClassifier(bootstrap=True, class_weight=None, criterion='gini',\n",
      "            max_depth=None, max_features='auto', max_leaf_nodes=None,\n",
      "            min_impurity_split=1e-07, min_samples_leaf=1,\n",
      "            min_samples_split=2, min_weight_fraction_leaf=0.0,\n",
      "            n_estimators=10, n_jobs=1, oob_score=False, random_state=None,\n",
      "            verbose=0, warm_start=False)\n",
      "\tAccuracy: 0.84408\tPrecision: 0.48595\tRecall: 0.23350\tF1: 0.31543\tF2: 0.26057\n",
      "\tTotal predictions: 13000\tTrue positives:  467\tFalse positives:  494\tFalse negatives: 1533\tTrue negatives: 10506\n",
      "\n"
     ]
    }
   ],
   "source": [
    "from sklearn.ensemble import RandomForestClassifier\n",
    "\n",
    "rf = RandomForestClassifier()\n",
    "test_classifier(rf, my_dataset, best_features_list)"
   ]
  },
  {
   "cell_type": "markdown",
   "metadata": {},
   "source": [
    "## Tune the algorithm \n",
    "\n",
    "\n",
    "Algorithms have a lot of parameters. In order to find the best combination, we want to tune our algorithm.\n",
    "GridSearchCV or Random Search are approaches to achieve this parameter optimization. \n",
    "\n",
    "GridSearchCV is a way of systematically working through multiple combinations of parameter tunes, cross-validating as it goes to determine which tune gives the best performance.\n"
   ]
  },
  {
   "cell_type": "markdown",
   "metadata": {},
   "source": [
    "We received the best result with the GaussianNB. \n",
    "As there are not a lot of parameters to tune there, we want to tune the second best algorithm - DecisionTree -  with the help of GridSearch.\n",
    "The default parameters are:\n",
    "                    class_weight=None, criterion='gini, max_depth=None,\n",
    "                    max_features=None, max_leaf_nodes=None,\n",
    "                    min_impurity_split=1e-07, min_samples_leaf=1,\n",
    "                    min_samples_split=2, min_weight_fraction_leaf=0.0,\n",
    "                    presort=False, random_state=None, splitter='best'\n",
    "\n",
    "We now want to tune the min_samples_split with 2, 3 splits, the min_samples_leaf with 1, 2 or 3 leaves. The Criterion measures the quality of a split, supported criterias are “gini” for the Gini impurity and “entropy” for the information gain. "
   ]
  },
  {
   "cell_type": "code",
   "execution_count": 28,
   "metadata": {
    "collapsed": false
   },
   "outputs": [
    {
     "name": "stdout",
     "output_type": "stream",
     "text": [
      "GridSearchCV(cv=None, error_score='raise',\n",
      "       estimator=Pipeline(steps=[('dt', DecisionTreeClassifier(class_weight=None, criterion='gini', max_depth=None,\n",
      "            max_features=None, max_leaf_nodes=None,\n",
      "            min_impurity_split=1e-07, min_samples_leaf=1,\n",
      "            min_samples_split=2, min_weight_fraction_leaf=0.0,\n",
      "            presort=False, random_state=None, splitter='best'))]),\n",
      "       fit_params={}, iid=True, n_jobs=1,\n",
      "       param_grid={'dt__min_samples_split': [2, 3, 4], 'dt__min_samples_leaf': [1, 2, 3], 'dt__criterion': ['gini', 'entropy']},\n",
      "       pre_dispatch='2*n_jobs', refit=True, return_train_score=True,\n",
      "       scoring=None, verbose=0)\n",
      "\tAccuracy: 0.80177\tPrecision: 0.32817\tRecall: 0.27550\tF1: 0.29954\tF2: 0.28464\n",
      "\tTotal predictions: 13000\tTrue positives:  551\tFalse positives: 1128\tFalse negatives: 1449\tTrue negatives: 9872\n",
      "\n"
     ]
    }
   ],
   "source": [
    "from sklearn.model_selection import GridSearchCV\n",
    "\n",
    "dt = tree.DecisionTreeClassifier()\n",
    "\n",
    "pipe = Pipeline([('dt', dt)])\n",
    "parameters = dict(dt__criterion=['gini', 'entropy'],\n",
    "                  dt__min_samples_leaf=[1, 2, 3],\n",
    "                  dt__min_samples_split=[2, 3, 4])\n",
    "                        \n",
    "clf = GridSearchCV(pipe, parameters)\n",
    "clf = clf.fit(features, labels)\n",
    "\n",
    "test_classifier(clf, my_dataset, best_features_list)"
   ]
  },
  {
   "cell_type": "markdown",
   "metadata": {},
   "source": [
    "Thanks to GridSearchCV we were able to boost the accuracy and the precision but the recall is worse now. This may be caused by overfitting. So we stay with the default parameters as we achieved the best result. "
   ]
  },
  {
   "cell_type": "code",
   "execution_count": 29,
   "metadata": {
    "collapsed": true
   },
   "outputs": [],
   "source": [
    "clf = GaussianNB()\n",
    "dump_classifier_and_data(clf, my_dataset, best_features_list)"
   ]
  },
  {
   "cell_type": "markdown",
   "metadata": {},
   "source": [
    "## Evaluation Metrics"
   ]
  },
  {
   "cell_type": "markdown",
   "metadata": {},
   "source": [
    "### Accuracy.\n",
    "\n",
    "\\begin{equation} \n",
    "% \n",
    "accuracy =\\frac{\\text{number of all data points labeled correctly}}{\\text{all items in this data}}\n",
    "%\n",
    "\\end{equation}\n",
    "\n",
    "With GridSearch and RandomForestClassifier we are able to boost the accuracy to 0.84415. That means we are 0.34415 better than random guessing if a person is a POI or not. "
   ]
  },
  {
   "cell_type": "markdown",
   "metadata": {
    "collapsed": true
   },
   "source": [
    "### Recall.\n",
    "\n",
    "\\begin{equation} \n",
    "% \n",
    "recall =\\frac{\\text{true positives}}{\\text{true positives} + \\text{false negatives}}\n",
    "%\n",
    "\\end{equation}\n",
    "\n",
    "good recall:\n",
    "Whenever the target (in our case POI) shows up in the data set, we can identify it almost every time. he cost of this is that we sometimes get some false positives."
   ]
  },
  {
   "cell_type": "markdown",
   "metadata": {},
   "source": [
    "### Precision.\n",
    "\n",
    "\\begin{equation} \n",
    "% \n",
    "precision =\\frac{\\text{true positives}}{\\text{true positives} + \\text{false positives}}\n",
    "%\n",
    "\\end{equation}\n",
    "\n",
    "good precision: \n",
    "Whenever the target (in our case POI) gets flagged in the data set, it is very likely to be a real target and not a false alarm. "
   ]
  },
  {
   "cell_type": "markdown",
   "metadata": {},
   "source": [
    "###  F1 score.\n",
    "This score is a measure of a test's accuracy. It considers recall and precision.\n",
    "good f1 score:\n",
    "This is the best of both worlds. Both my false positive and false negative rates are low."
   ]
  },
  {
   "cell_type": "markdown",
   "metadata": {},
   "source": [
    "## Validate\n",
    "\n",
    "Validation is process of determining how well your model performs. We are using k-fold cross validation for this project. This means the data ist split into test (best validation, when maximum amount) and training (best learning results, when maximum amount). In order to handle the trade off between the split data, we run k separate learning experiment, so at the end all data has been used for training and testing.\n",
    "\n",
    "In our case the  sklearn StratifiedShuffleSplit with labels, folds=1000 and random_state = 42 as parameters is used as a cross-validator in the tester.py"
   ]
  },
  {
   "cell_type": "code",
   "execution_count": 30,
   "metadata": {
    "collapsed": false
   },
   "outputs": [
    {
     "name": "stdout",
     "output_type": "stream",
     "text": [
      "0.827586206897\n"
     ]
    }
   ],
   "source": [
    "from sklearn import cross_validation\n",
    "\n",
    "features_train, features_test, labels_train, labels_test = cross_validation.train_test_split(\n",
    "    features, labels, test_size=0.4, random_state=0)\n",
    "\n",
    "clf.fit(features_train, labels_train)\n",
    "\n",
    "print clf.score(features_test, labels_test)"
   ]
  },
  {
   "cell_type": "markdown",
   "metadata": {},
   "source": [
    "### References\n",
    "\n",
    "http://scikit-learn.org\n",
    "\n",
    "http://maciejjaskowski.github.io/2016/01/22/pandas-scikit-workflow.html\n",
    "\n",
    "http://machinelearningmastery.com/feature-selection-machine-learning-python/\n",
    "\n",
    "https://en.wikipedia.org/wiki/F1_score\n",
    "\n",
    "https://7264-843222-gh.circle-artifacts.com/0/home/ubuntu/scikit-learn/doc/_build/html/stable/auto_examples/preprocessing/plot_scaling_importance.html\n",
    "\n",
    "https://discussions.udacity.com/t/errors-when-using-selectkbest-in-final-project/170706/6\n",
    "\n",
    "http://machinelearningmastery.com/how-to-tune-algorithm-parameters-with-scikit-learn/\n"
   ]
  }
 ],
 "metadata": {
  "anaconda-cloud": {},
  "kernelspec": {
   "display_name": "Python [Root]",
   "language": "python",
   "name": "Python [Root]"
  },
  "language_info": {
   "codemirror_mode": {
    "name": "ipython",
    "version": 2
   },
   "file_extension": ".py",
   "mimetype": "text/x-python",
   "name": "python",
   "nbconvert_exporter": "python",
   "pygments_lexer": "ipython2",
   "version": "2.7.13"
  }
 },
 "nbformat": 4,
 "nbformat_minor": 0
}
