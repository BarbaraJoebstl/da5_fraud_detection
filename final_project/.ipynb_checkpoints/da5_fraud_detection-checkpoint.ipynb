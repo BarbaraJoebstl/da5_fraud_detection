{
 "cells": [
  {
   "cell_type": "code",
   "execution_count": 1,
   "metadata": {
    "collapsed": false
   },
   "outputs": [],
   "source": [
    "#!/usr/bin/python\n",
    "%matplotlib inline \n",
    "\n",
    "import sys\n",
    "import pickle\n",
    "import json\n",
    "import numpy as np\n",
    "import pandas as pd\n",
    "import matplotlib.pyplot as plt\n",
    "import seaborn as sns\n",
    "\n",
    "sys.path.append(\"../tools/\")"
   ]
  },
  {
   "cell_type": "markdown",
   "metadata": {},
   "source": [
    "# Data Exploration"
   ]
  },
  {
   "cell_type": "code",
   "execution_count": 2,
   "metadata": {
    "collapsed": false
   },
   "outputs": [
    {
     "name": "stdout",
     "output_type": "stream",
     "text": [
      "-----------------------------------------\n",
      "Data Example:  [\n",
      "  {\n",
      "    \"salary\": 365788, \n",
      "    \"to_messages\": 807, \n",
      "    \"deferral_payments\": \"NaN\", \n",
      "    \"total_payments\": 1061827, \n",
      "    \"exercised_stock_options\": \"NaN\", \n",
      "    \"bonus\": 600000, \n",
      "    \"restricted_stock\": 585062, \n",
      "    \"shared_receipt_with_poi\": 702, \n",
      "    \"restricted_stock_deferred\": \"NaN\", \n",
      "    \"total_stock_value\": 585062, \n",
      "    \"expenses\": 94299, \n",
      "    \"loan_advances\": \"NaN\", \n",
      "    \"from_messages\": 29, \n",
      "    \"other\": 1740, \n",
      "    \"from_this_person_to_poi\": 1, \n",
      "    \"poi\": false, \n",
      "    \"director_fees\": \"NaN\", \n",
      "    \"deferred_income\": \"NaN\", \n",
      "    \"long_term_incentive\": \"NaN\", \n",
      "    \"email_address\": \"mark.metts@enron.com\", \n",
      "    \"from_poi_to_this_person\": 38\n",
      "  }\n",
      "]\n",
      "-----------------------------------------\n",
      "Total number of data points: 146\n"
     ]
    }
   ],
   "source": [
    "### Task 1: Select what features you'll use.\n",
    "### features_list is a list of strings, each of which is a feature name.\n",
    "### The first feature must be \"poi\".\n",
    "\n",
    "### Load the dictionary containing the dataset\n",
    "with open(\"final_project_dataset.pkl\", \"r\") as data_file:\n",
    "    data_dict = pickle.load(data_file)\n",
    "\n",
    "first_data_item = [v for v in data_dict.values()[:1]]\n",
    "print '-----------------------------------------'\n",
    "print 'Data Example: ', (json.dumps(first_data_item, indent=2))\n",
    "\n",
    "data_points = len(data_dict)\n",
    "print '-----------------------------------------'\n",
    "print 'Total number of data points:', data_points\n",
    " \n",
    "# add all features first to list and check the NaNs \n",
    "# 'poi' has to be first, because it is the target\n",
    "features_list = ['poi',\n",
    "                 'salary', \"to_messages\", \n",
    "    \"total_payments\",      \n",
    "    \"exercised_stock_options\", \n",
    "    \"bonus\", \n",
    "    \"restricted_stock\", \n",
    "    \"shared_receipt_with_poi\", \n",
    "    \"restricted_stock_deferred\", \n",
    "    \"total_stock_value\", \n",
    "    \"expenses\", \n",
    "    \"loan_advances\", \n",
    "    \"from_messages\", \n",
    "    \"from_this_person_to_poi\", \n",
    "    \"director_fees\", \n",
    "    \"deferred_income\", \n",
    "    \"long_term_incentive\", \n",
    "    \"from_poi_to_this_person\"] \n"
   ]
  },
  {
   "cell_type": "code",
   "execution_count": 3,
   "metadata": {
    "collapsed": false
   },
   "outputs": [
    {
     "name": "stdout",
     "output_type": "stream",
     "text": [
      "<class 'pandas.core.frame.DataFrame'>\n",
      "Index: 146 entries, ALLEN PHILLIP K to YEAP SOON\n",
      "Data columns (total 18 columns):\n",
      "poi                          146 non-null bool\n",
      "salary                       95 non-null float64\n",
      "to_messages                  86 non-null float64\n",
      "total_payments               125 non-null float64\n",
      "exercised_stock_options      102 non-null float64\n",
      "bonus                        82 non-null float64\n",
      "restricted_stock             110 non-null float64\n",
      "shared_receipt_with_poi      86 non-null float64\n",
      "restricted_stock_deferred    18 non-null float64\n",
      "total_stock_value            126 non-null float64\n",
      "expenses                     95 non-null float64\n",
      "loan_advances                4 non-null float64\n",
      "from_messages                86 non-null float64\n",
      "from_this_person_to_poi      86 non-null float64\n",
      "director_fees                17 non-null float64\n",
      "deferred_income              49 non-null float64\n",
      "long_term_incentive          66 non-null float64\n",
      "from_poi_to_this_person      86 non-null float64\n",
      "dtypes: bool(1), float64(17)\n",
      "memory usage: 20.7+ KB\n"
     ]
    }
   ],
   "source": [
    "# load data into a dataframe \n",
    "df = pd.DataFrame.from_dict(data_dict, orient = 'index')\n",
    "# replace the NaN for our exploration - undo it for the machine learning part\n",
    "df = df.replace('NaN', np.nan)\n",
    "df = df[features_list]\n",
    "df.info()"
   ]
  },
  {
   "cell_type": "markdown",
   "metadata": {},
   "source": [
    "remove 'restricted_stock_deferred', 'loan_advances'  and 'director_fees' because they have at least 88.7% of NaN values."
   ]
  },
  {
   "cell_type": "code",
   "execution_count": 13,
   "metadata": {
    "collapsed": false
   },
   "outputs": [
    {
     "name": "stdout",
     "output_type": "stream",
     "text": [
      "15\n"
     ]
    }
   ],
   "source": [
    "features_list.remove('restricted_stock_deferred')\n",
    "features_list.remove('director_fees')    \n",
    "features_list.remove('loan_advances')\n",
    "\n",
    "df = df.drop('restricted_stock_deferred', 1)\n",
    "df = df.drop('director_fees', 1)\n",
    "df = df.drop('loan_advances', 1)\n",
    "\n",
    "print len(features_list)"
   ]
  },
  {
   "cell_type": "code",
   "execution_count": 14,
   "metadata": {
    "collapsed": false
   },
   "outputs": [
    {
     "name": "stdout",
     "output_type": "stream",
     "text": [
      "Amount of NaN values in the dataset:  764\n"
     ]
    }
   ],
   "source": [
    "print \"Amount of NaN values in the dataset: \", df.isnull().sum().sum()\n",
    "# Todo compare total and nan"
   ]
  },
  {
   "cell_type": "code",
   "execution_count": 15,
   "metadata": {
    "collapsed": false
   },
   "outputs": [
    {
     "data": {
      "text/plain": [
       "non persons of interest    128\n",
       "persons of interest         18\n",
       "Name: poi, dtype: int64"
      ]
     },
     "execution_count": 15,
     "metadata": {},
     "output_type": "execute_result"
    }
   ],
   "source": [
    "poi_to_non_poi = df.poi.value_counts()\n",
    "poi_to_non_poi.index=['non persons of interest', 'persons of interest']\n",
    "\n",
    "poi_to_non_poi"
   ]
  },
  {
   "cell_type": "markdown",
   "metadata": {},
   "source": [
    "### Features"
   ]
  },
  {
   "cell_type": "code",
   "execution_count": 16,
   "metadata": {
    "collapsed": false
   },
   "outputs": [
    {
     "data": {
      "text/html": [
       "<div>\n",
       "<table border=\"1\" class=\"dataframe\">\n",
       "  <thead>\n",
       "    <tr style=\"text-align: right;\">\n",
       "      <th></th>\n",
       "      <th>poi</th>\n",
       "      <th>salary</th>\n",
       "      <th>to_messages</th>\n",
       "      <th>total_payments</th>\n",
       "      <th>exercised_stock_options</th>\n",
       "      <th>bonus</th>\n",
       "      <th>restricted_stock</th>\n",
       "      <th>shared_receipt_with_poi</th>\n",
       "      <th>total_stock_value</th>\n",
       "      <th>expenses</th>\n",
       "      <th>from_messages</th>\n",
       "      <th>from_this_person_to_poi</th>\n",
       "      <th>deferred_income</th>\n",
       "      <th>long_term_incentive</th>\n",
       "      <th>from_poi_to_this_person</th>\n",
       "    </tr>\n",
       "  </thead>\n",
       "  <tbody>\n",
       "  </tbody>\n",
       "</table>\n",
       "</div>"
      ],
      "text/plain": [
       "Empty DataFrame\n",
       "Columns: [poi, salary, to_messages, total_payments, exercised_stock_options, bonus, restricted_stock, shared_receipt_with_poi, total_stock_value, expenses, from_messages, from_this_person_to_poi, deferred_income, long_term_incentive, from_poi_to_this_person]\n",
       "Index: []"
      ]
     },
     "execution_count": 16,
     "metadata": {},
     "output_type": "execute_result"
    }
   ],
   "source": [
    "#count NaNs for each row in dataframe\n",
    "df[df.isnull().sum(axis=1) >= 15]"
   ]
  },
  {
   "cell_type": "markdown",
   "metadata": {},
   "source": [
    "LOCKHART EUGENE E hast only NaN values, so we can drop this data row. \n",
    "The name \"THE TRAVEL AGENCY IN THE PARK\" hast only the value for \"Total payments\" and \"other\" set. It seems to play also a role in Enron fraud. But as there is no email data and we want to focus on persons, we can drop also this row.\n",
    "\n",
    "There are a 7 other entries that have 15 more NaN values out of 18. But we will leave those for now.  "
   ]
  },
  {
   "cell_type": "code",
   "execution_count": 17,
   "metadata": {
    "collapsed": false
   },
   "outputs": [
    {
     "data": {
      "text/plain": [
       "{'bonus': 'NaN',\n",
       " 'deferral_payments': 'NaN',\n",
       " 'deferred_income': 'NaN',\n",
       " 'director_fees': 'NaN',\n",
       " 'email_address': 'NaN',\n",
       " 'exercised_stock_options': 'NaN',\n",
       " 'expenses': 'NaN',\n",
       " 'from_messages': 'NaN',\n",
       " 'from_poi_to_this_person': 'NaN',\n",
       " 'from_this_person_to_poi': 'NaN',\n",
       " 'loan_advances': 'NaN',\n",
       " 'long_term_incentive': 'NaN',\n",
       " 'other': 362096,\n",
       " 'poi': False,\n",
       " 'restricted_stock': 'NaN',\n",
       " 'restricted_stock_deferred': 'NaN',\n",
       " 'salary': 'NaN',\n",
       " 'shared_receipt_with_poi': 'NaN',\n",
       " 'to_messages': 'NaN',\n",
       " 'total_payments': 362096,\n",
       " 'total_stock_value': 'NaN'}"
      ]
     },
     "execution_count": 17,
     "metadata": {},
     "output_type": "execute_result"
    }
   ],
   "source": [
    "df = df.drop('TOTAL')\n",
    "df = df.drop('LOCKHART EUGENE E')\n",
    "df = df.drop('THE TRAVEL AGENCY IN THE PARK')\n",
    "\n",
    "data_dict.pop('TOTAL', 0)\n",
    "data_dict.pop('LOCKHART EUGENE E', 0)\n",
    "data_dict.pop('THE TRAVEL AGENCY IN THE PARK', 0)"
   ]
  },
  {
   "cell_type": "markdown",
   "metadata": {},
   "source": [
    "### Identifying outliers"
   ]
  },
  {
   "cell_type": "code",
   "execution_count": 18,
   "metadata": {
    "collapsed": false
   },
   "outputs": [
    {
     "name": "stdout",
     "output_type": "stream",
     "text": [
      "              Bonus       Salaray\n",
      "count  8.100000e+01  9.400000e+01\n",
      "mean   1.201773e+06  2.840875e+05\n",
      "std    1.441679e+06  1.771311e+05\n",
      "min    7.000000e+04  4.770000e+02\n",
      "25%             NaN           NaN\n",
      "50%             NaN           NaN\n",
      "75%             NaN           NaN\n",
      "max    8.000000e+06  1.111258e+06\n",
      "                       salary      bonus\n",
      "SKILLING JEFFREY K  1111258.0  5600000.0\n",
      "LAY KENNETH L       1072321.0  7000000.0\n",
      "FREVERT MARK A      1060932.0  2000000.0\n",
      "PICKERING MARK R     655037.0   300000.0\n",
      "WHALLEY LAWRENCE G   510364.0  3000000.0\n",
      "                       salary      bonus\n",
      "LAVORATO JOHN J      339288.0  8000000.0\n",
      "LAY KENNETH L       1072321.0  7000000.0\n",
      "SKILLING JEFFREY K  1111258.0  5600000.0\n",
      "BELDEN TIMOTHY N     213999.0  5249999.0\n",
      "ALLEN PHILLIP K      201955.0  4175000.0\n",
      "KITCHEN LOUISE       271442.0  3100000.0\n",
      "DELAINEY DAVID W     365163.0  3000000.0\n",
      "WHALLEY LAWRENCE G   510364.0  3000000.0\n",
      "MCMAHON JEFFREY      370448.0  2600000.0\n",
      "FALLON JAMES B       304588.0  2500000.0\n"
     ]
    },
    {
     "name": "stderr",
     "output_type": "stream",
     "text": [
      "/Users/barbara/anaconda2/lib/python2.7/site-packages/numpy/lib/function_base.py:3834: RuntimeWarning: Invalid value encountered in percentile\n",
      "  RuntimeWarning)\n"
     ]
    },
    {
     "data": {
      "text/plain": [
       "<matplotlib.axes._subplots.AxesSubplot at 0x118f04d10>"
      ]
     },
     "execution_count": 18,
     "metadata": {},
     "output_type": "execute_result"
    },
    {
     "data": {
      "image/png": "[encoded data removed]",
      "text/plain": [
       "<matplotlib.figure.Figure at 0x118d17a90>"
      ]
     },
     "metadata": {},
     "output_type": "display_data"
    }
   ],
   "source": [
    "#data_dict.pop(\"TOTAL\", 0) \n",
    "#df = df.drop('TOTAL')\n",
    "\n",
    "money_df = pd.DataFrame({\"Salaray\": df['salary'],\n",
    "                          \"Bonus\": df['bonus']})\n",
    "print money_df.describe()\n",
    "\n",
    "new = df.filter(['salary','bonus'], axis=1)\n",
    "\n",
    "print new.nlargest(5, 'salary')\n",
    "print new.nlargest(10, 'bonus')\n",
    "\n",
    "df.plot.scatter('salary', 'bonus')"
   ]
  },
  {
   "cell_type": "markdown",
   "metadata": {},
   "source": [
    "#There is a data point far far awy from the others. As the name of this datapoint is \"Total \" it is clear that this is an outlier due to a spreadsheet error. We will remove this datapoint and take a closer look.\n",
    "\n",
    "After removing the spreadsheet error, we can identify some outliers in the salary. SKILLING JEFFREY K, LAY KENNETH L and FREVERT MARK A had a salary over 1.000.000 each. The highest Bonus had LAVORATO JOHN J. There are some more outliers, but we want to keep this data for our analysis, because those are more likely to be anomalies than outliers."
   ]
  },
  {
   "cell_type": "markdown",
   "metadata": {},
   "source": [
    "# Optimize Feature Selection"
   ]
  },
  {
   "cell_type": "markdown",
   "metadata": {},
   "source": [
    "## Create new features \n",
    "\n",
    "At least one new feature is implemented. Justification for that feature is provided in the written response, and the effect of that feature on the final algorithm performance is tested. The student is not required to include their new feature in their final feature set.\n",
    "\n",
    "\n",
    "\"salary\": 365788, \n",
    "    \"to_messages\": 807, \n",
    "    \"deferral_payments\": \"NaN\", \n",
    "    \"total_payments\": 1061827, \n",
    "    \"exercised_stock_options\": \"NaN\", \n",
    "    \"bonus\": 600000, \n",
    "    \"restricted_stock\": 585062, \n",
    "    \"shared_receipt_with_poi\": 702, \n",
    "    \"restricted_stock_deferred\": \"NaN\", \n",
    "    \"total_stock_value\": 585062, \n",
    "    \"expenses\": 94299, \n",
    "    \"loan_advances\": \"NaN\", \n",
    "    \"from_messages\": 29, \n",
    "    \"other\": 1740, \n",
    "    \"from_this_person_to_poi\": 1, \n",
    "    \"poi\": false, \n",
    "    \"director_fees\": \"NaN\", \n",
    "    \"deferred_income\": \"NaN\", \n",
    "    \"long_term_incentive\": \"NaN\", \n",
    "    \"email_address\": \"mark.metts@enron.com\", \n",
    "    \"from_poi_to_this_person\": 38\n",
    "    \n",
    "    \n",
    "   \"from_poi_to_this_person\", from_this_person_to_poi, loan_advances\n",
    "    "
   ]
  },
  {
   "cell_type": "code",
   "execution_count": 19,
   "metadata": {
    "collapsed": false
   },
   "outputs": [
    {
     "data": {
      "text/plain": [
       "<matplotlib.axes._subplots.AxesSubplot at 0x11920ae50>"
      ]
     },
     "execution_count": 19,
     "metadata": {},
     "output_type": "execute_result"
    },
    {
     "data": {
      "image/png": "[encoded data removed]",
      "text/plain": [
       "<matplotlib.figure.Figure at 0x110075a90>"
      ]
     },
     "metadata": {},
     "output_type": "display_data"
    },
    {
     "data": {
      "image/png": "[encoded data removed]",
      "text/plain": [
       "<matplotlib.figure.Figure at 0x11906ced0>"
      ]
     },
     "metadata": {},
     "output_type": "display_data"
    },
    {
     "data": {
      "image/png": "[encoded data removed]",
      "text/plain": [
       "<matplotlib.figure.Figure at 0x119146950>"
      ]
     },
     "metadata": {},
     "output_type": "display_data"
    }
   ],
   "source": [
    "### Task 3: Create new feature(s)\n",
    "# dataframe\n",
    "df['fraction_to_poi'] = df['from_this_person_to_poi'] / df['to_messages']\n",
    "df['fraction_from_poi'] = df['from_poi_to_this_person'] / df['from_messages']\n",
    "\n",
    "df.plot.scatter('from_messages', 'from_this_person_to_poi')\n",
    "df.plot.scatter('to_messages', 'from_poi_to_this_person')\n",
    "\n",
    "#plot new features\n",
    "df.plot.scatter('fraction_to_poi', 'fraction_from_poi')  "
   ]
  },
  {
   "cell_type": "code",
   "execution_count": 20,
   "metadata": {
    "collapsed": false
   },
   "outputs": [
    {
     "data": {
      "text/plain": [
       "<matplotlib.text.Text at 0x119328650>"
      ]
     },
     "execution_count": 20,
     "metadata": {},
     "output_type": "execute_result"
    },
    {
     "data": {
      "image/png": "[encoded data removed]",
      "text/plain": [
       "<matplotlib.figure.Figure at 0x11930fb90>"
      ]
     },
     "metadata": {},
     "output_type": "display_data"
    }
   ],
   "source": [
    "# bonus to total_payments\n",
    "df['fraction_bonus'] = df['total_payments'] / df['bonus']\n",
    "\n",
    "# add a new column with bins for fraction bonus\n",
    "def get_fraction_bonus_bins(fraction_bonus):\n",
    "    fraction_bonus_bins = fraction_bonus\n",
    "    if fraction_bonus > 4 and fraction_bonus <= 10:\n",
    "        return '5 - 10'\n",
    "    elif fraction_bonus > 0 and fraction_bonus < 5:\n",
    "        return '0 - 4'\n",
    "    elif fraction_bonus > 10:\n",
    "        return 'bigger than 10'\n",
    "    else:\n",
    "        return 'nan'\n",
    "\n",
    "df['fraction_bonus_bins'] = df['fraction_bonus'].apply(get_fraction_bonus_bins)\n",
    "\n",
    "df.groupby('poi')['fraction_bonus_bins'].value_counts().unstack().plot(kind = 'bar')\n",
    "plt.xticks([0, 1], ['Not a person of interest', 'person of interest'], rotation = 0)\n",
    "plt.title('Fraction bonus in bins by poi')"
   ]
  },
  {
   "cell_type": "code",
   "execution_count": 21,
   "metadata": {
    "collapsed": false
   },
   "outputs": [],
   "source": [
    "# once again  - create new features and add them to the data dict:\n",
    "    \n",
    "for k in data_dict.keys():\n",
    "    data_dict[k]['ratio_from_poi'] = 0\n",
    "    if (data_dict[k]['from_poi_to_this_person'] != 'NaN') and (data_dict[k]['from_messages'] != 'NaN') and (data_dict[k]['from_messages'] != 0):\n",
    "        data_dict[k]['ratio_from_poi'] = float(data_dict[k]['from_poi_to_this_person'])/float(data_dict[k]['from_messages'])\n",
    "features_list.append('ratio_from_poi')\n",
    "\n",
    "for k in data_dict.keys():\n",
    "    data_dict[k]['ratio_to_poi'] = 0\n",
    "    if (data_dict[k]['from_this_person_to_poi'] != 'NaN') and (data_dict[k]['to_messages'] != 'NaN') and (data_dict[k]['to_messages'] != 0):\n",
    "        data_dict[k]['ratio_to_poi'] = float(data_dict[k]['from_this_person_to_poi'])/float(data_dict[k]['to_messages'])\n",
    "features_list.append('ratio_to_poi')\n",
    "\n",
    "\n",
    "for k in data_dict.keys():\n",
    "    data_dict[k]['ratio_bonus'] = 0\n",
    "    if (data_dict[k]['total_payments'] != 'NaN') and (data_dict[k]['bonus'] != 'NaN') and (data_dict[k]['bonus'] != 0):\n",
    "        data_dict[k]['ratio_bonus'] = float(data_dict[k]['total_payments'])/float(data_dict[k]['bonus'])\n",
    "features_list.append('ratio_bonus')\n",
    "\n",
    "\n",
    "\n",
    "### update feature_list \n",
    "features_list.append('ratio_from_poi')\n",
    "features_list.append('ratio_to_poi')\n",
    "features_list.append('ratio_bonus')"
   ]
  },
  {
   "cell_type": "code",
   "execution_count": 37,
   "metadata": {
    "collapsed": false
   },
   "outputs": [],
   "source": [
    "from feature_format import featureFormat, targetFeatureSplit\n",
    "from tester import dump_classifier_and_data, test_classifier\n",
    "\n",
    "my_dataset = data_dict  \n",
    "\n",
    "### Extract features and labels from dataset for local testing\n",
    "data = featureFormat(my_dataset, features_list)\n",
    "labels, features = targetFeatureSplit(data)"
   ]
  },
  {
   "cell_type": "markdown",
   "metadata": {},
   "source": [
    "## Select Features"
   ]
  },
  {
   "cell_type": "code",
   "execution_count": 23,
   "metadata": {
    "collapsed": false
   },
   "outputs": [],
   "source": [
    "from sklearn.feature_selection import SelectKBest"
   ]
  },
  {
   "cell_type": "code",
   "execution_count": 24,
   "metadata": {
    "collapsed": false
   },
   "outputs": [
    {
     "name": "stdout",
     "output_type": "stream",
     "text": [
      "Select KBest [('exercised_stock_options', 24.815079733218194), ('total_stock_value', 24.182898678566879), ('bonus', 20.792252047181535), ('salary', 18.289684043404513), ('deferred_income', 11.458476579280369), ('long_term_incentive', 9.9221860131898225), ('restricted_stock', 9.2128106219771002), ('total_payments', 8.7727777300916792), ('shared_receipt_with_poi', 8.589420731682381), ('expenses', 6.0941733106389453), ('from_poi_to_this_person', 5.2434497133749582), ('ratio_from_poi', 5.123946152756889), ('ratio_from_poi', 5.123946152756889), ('ratio_bonus', 4.4527162100462689), ('ratio_bonus', 4.4527162100462689), ('ratio_to_poi', 4.09465330957695), ('ratio_to_poi', 4.09465330957695), ('from_this_person_to_poi', 2.3826121082276739), ('to_messages', 1.6463411294420076), ('from_messages', 0.16970094762175533)]\n"
     ]
    }
   ],
   "source": [
    "# Univariate feature selection\n",
    "\n",
    "k_best = SelectKBest(k=7)\n",
    "k_best.fit(features, labels)\n",
    "scores = k_best.scores_\n",
    "unsorted_pairs = zip(features_list[1:], scores)\n",
    "sorted_pairs = list(reversed(sorted(unsorted_pairs, key=lambda x: x[1])))\n",
    "\n",
    "print 'Select KBest', sorted_pairs"
   ]
  },
  {
   "cell_type": "markdown",
   "metadata": {},
   "source": [
    "### Principle Component Analysis"
   ]
  },
  {
   "cell_type": "markdown",
   "metadata": {},
   "source": [
    "PCA combines similar (correlated) attributes and creates new ones. Superior to original attributes. \n",
    "\n",
    "Systematized way to transform input features into principle components\n",
    "Use principal components as new features\n",
    "-PCs are directions in data that maximize variance (minimize information loss) whe you project/compress down onto them\n",
    "More variance of data along a PC, higher that PC is ranked\n",
    "Most variance/most information -> first PC\n",
    "Second most variance (without overlapping w/ first PC) -> second PC\n",
    "Max no. of Pcs = no. of input features\n",
    "\n",
    "When to use PCA\n",
    "Latent features driving the patterns in data (big shots…)\n",
    "Dimensionality reduction\n",
    "-- visualize high-dimensional data\n",
    "-- reduce noise\n",
    "-- make other algorithms (regression, classification) work better we fewer inputs "
   ]
  },
  {
   "cell_type": "code",
   "execution_count": null,
   "metadata": {
    "collapsed": false
   },
   "outputs": [],
   "source": [
    "from sklearn.decomposition import PCA\n",
    "\n",
    "def doPCA():\n",
    "    pca = PCA()\n",
    "    pca.fit(data)\n",
    "    return pca\n",
    "\n",
    "pca = doPCA()\n",
    "print pca.explained_variance_ratio_\n",
    "first_px = pca.components_[0]\n",
    "second_px = pca.components_[1]\n",
    "\n",
    "print pca.components_\n",
    "\n",
    "transformed_data = pca.transform(data)  \n",
    "print transformed_data"
   ]
  },
  {
   "cell_type": "markdown",
   "metadata": {},
   "source": [
    "Variance: \"spread of data distribution\" -> similar to standard deviation\n",
    "Principal Component: of a dataset is the direction that has the largest variance, because it retains the max amoutn of information of the original data. "
   ]
  },
  {
   "cell_type": "markdown",
   "metadata": {},
   "source": [
    "# Pick and Tune an Algorithm"
   ]
  },
  {
   "cell_type": "code",
   "execution_count": 25,
   "metadata": {
    "collapsed": true
   },
   "outputs": [],
   "source": [
    "from __future__ import print_function\n",
    "\n",
    "from time import time\n",
    "import logging\n",
    "import matplotlib.pyplot as plt\n",
    "\n",
    "from sklearn.model_selection import train_test_split\n",
    "from sklearn.model_selection import GridSearchCV\n",
    "from sklearn.metrics import classification_report\n",
    "from sklearn.metrics import confusion_matrix\n",
    "from sklearn.decomposition import PCA\n",
    "from sklearn.svm import SVC"
   ]
  },
  {
   "cell_type": "markdown",
   "metadata": {},
   "source": [
    "Naive Baies"
   ]
  },
  {
   "cell_type": "code",
   "execution_count": 26,
   "metadata": {
    "collapsed": false
   },
   "outputs": [
    {
     "name": "stdout",
     "output_type": "stream",
     "text": [
      "GaussianNB(priors=None)\n",
      "\tAccuracy: 0.83100\tPrecision: 0.34810\tRecall: 0.30650\tF1: 0.32598\tF2: 0.31400\n",
      "\tTotal predictions: 15000\tTrue positives:  613\tFalse positives: 1148\tFalse negatives: 1387\tTrue negatives: 11852\n",
      "\n"
     ]
    }
   ],
   "source": [
    "from time import time\n",
    "from sklearn.naive_bayes import GaussianNB\n",
    "\n",
    "clf = GaussianNB()\n",
    "test_classifier(clf, my_dataset, features_list)"
   ]
  },
  {
   "cell_type": "code",
   "execution_count": null,
   "metadata": {
    "collapsed": true
   },
   "outputs": [],
   "source": [
    "SVM"
   ]
  },
  {
   "cell_type": "code",
   "execution_count": 28,
   "metadata": {
    "collapsed": false
   },
   "outputs": [
    {
     "name": "stdout",
     "output_type": "stream",
     "text": [
      "Pipeline(steps=[('scale', StandardScaler(copy=True, with_mean=True, with_std=True)), ('svc', SVC(C=1.0, cache_size=200, class_weight=None, coef0=0.0,\n",
      "  decision_function_shape=None, degree=3, gamma='auto', kernel='linear',\n",
      "  max_iter=-1, probability=False, random_state=None, shrinking=True,\n",
      "  tol=0.001, verbose=False))])\n",
      "\tAccuracy: 0.85540\tPrecision: 0.34438\tRecall: 0.09350\tF1: 0.14707\tF2: 0.10945\n",
      "\tTotal predictions: 15000\tTrue positives:  187\tFalse positives:  356\tFalse negatives: 1813\tTrue negatives: 12644\n",
      "\n"
     ]
    }
   ],
   "source": [
    "from sklearn.preprocessing import StandardScaler\n",
    "from sklearn.pipeline import Pipeline\n",
    "from sklearn import svm\n",
    "\n",
    "svc = SVC(kernel=\"linear\")\n",
    "estimators = [('scale', StandardScaler()), ('svc', svc)]\n",
    "clf = Pipeline(estimators)\n",
    "\n",
    "test_classifier(clf, my_dataset, features_list)"
   ]
  },
  {
   "cell_type": "code",
   "execution_count": null,
   "metadata": {
    "collapsed": true
   },
   "outputs": [],
   "source": [
    "Knn"
   ]
  },
  {
   "cell_type": "code",
   "execution_count": 29,
   "metadata": {
    "collapsed": true
   },
   "outputs": [],
   "source": [
    "from sklearn.neighbors import KNeighborsClassifier"
   ]
  },
  {
   "cell_type": "code",
   "execution_count": 31,
   "metadata": {
    "collapsed": false
   },
   "outputs": [
    {
     "name": "stdout",
     "output_type": "stream",
     "text": [
      "Pipeline(steps=[('scale', StandardScaler(copy=True, with_mean=True, with_std=True)), ('knn', KNeighborsClassifier(algorithm='auto', leaf_size=30, metric='minkowski',\n",
      "           metric_params=None, n_jobs=1, n_neighbors=5, p=2,\n",
      "           weights='uniform'))])\n",
      "\tAccuracy: 0.85020\tPrecision: 0.03042\tRecall: 0.00400\tF1: 0.00707\tF2: 0.00484\n",
      "\tTotal predictions: 15000\tTrue positives:    8\tFalse positives:  255\tFalse negatives: 1992\tTrue negatives: 12745\n",
      "\n"
     ]
    }
   ],
   "source": [
    "knn = KNeighborsClassifier()\n",
    "estimators = [('scale', StandardScaler()), ('knn', knn)]\n",
    "clf = Pipeline(estimators)\n",
    "test_classifier(clf, my_dataset, features_list)"
   ]
  },
  {
   "cell_type": "markdown",
   "metadata": {},
   "source": [
    "## Tune the algorithm "
   ]
  },
  {
   "cell_type": "markdown",
   "metadata": {},
   "source": [
    "GridSearchCV is a way of systematically working through multiple combinations of parameter tunes, cross-validating as it goes to determine which tune gives the best performance. The beauty is that it can work through many combinations in only a couple extra lines of code."
   ]
  },
  {
   "cell_type": "code",
   "execution_count": null,
   "metadata": {
    "collapsed": false
   },
   "outputs": [],
   "source": [
    "from sklearn.cross_validation import train_test_split\n",
    "from sklearn.grid_search import GridSearchCV\n",
    "\n",
    "param_grid = { 'C': [1e3, 5e3, 1e4, 5e4, 1e5],\n",
    "              'gamma': [0.0001, 0.0005, 0.001, 0.005, 0.01, 0.1]}\n",
    "\n",
    "clf = GridSearchCV(SVC(kernel='linear', class_weight='balanced'), param_grid)\n",
    "\n",
    "test_classifier(clf, my_dataset, features_list)"
   ]
  },
  {
   "cell_type": "markdown",
   "metadata": {},
   "source": [
    "# Validate and Evaluate"
   ]
  },
  {
   "cell_type": "markdown",
   "metadata": {},
   "source": [
    "Validation is important because it gives an estimate of the performance of an independent dataset and serves as a check for overfitting."
   ]
  },
  {
   "cell_type": "markdown",
   "metadata": {},
   "source": [
    "## Evaluation Metrics"
   ]
  },
  {
   "cell_type": "markdown",
   "metadata": {
    "collapsed": true
   },
   "source": [
    "### Recall.\n",
    "true positives / true positives + false negatives\n",
    "\n",
    "good recall:\n",
    "Whenever the target (in our case POI) shows up in the data set, we can identify it almost every time. he cost of this is that we sometimes get some false positives."
   ]
  },
  {
   "cell_type": "markdown",
   "metadata": {},
   "source": [
    "### Precision.\n",
    "true positives / true positives + false positives\n",
    "\n",
    "good precision: \n",
    "Whenever the target (in our case POI) gets flagged in the data set, it is very likely to be a real target and not a false alarm. "
   ]
  },
  {
   "cell_type": "markdown",
   "metadata": {},
   "source": [
    "###  F1 score.\n",
    "This score is a measure of a test's accuracy. It considers recall and precision.\n",
    "\n",
    "good f1 score:\n",
    "This is the best of both worlds. Both my false positive and false negative rates are low."
   ]
  },
  {
   "cell_type": "markdown",
   "metadata": {},
   "source": [
    "## Validation Strategy"
   ]
  },
  {
   "cell_type": "code",
   "execution_count": null,
   "metadata": {
    "collapsed": true
   },
   "outputs": [],
   "source": [
    "from sklearn import cross_validation\n",
    "\n",
    "features_train, features_test, labels_train, labels_test = cross_validation.train_test_split(\n",
    "    features, labels, test_size=0.4, random_state=0)\n",
    "\n",
    "clf = SVC(kernel=\"linear\", C=1.)\n",
    "clf.fit(features_train, labels_train)\n",
    "\n",
    "print clf.score(features_test, labels_test)"
   ]
  },
  {
   "cell_type": "markdown",
   "metadata": {},
   "source": [
    "\n",
    "\n",
    "http://scikit-learn.org\n",
    "\n",
    "http://maciejjaskowski.github.io/2016/01/22/pandas-scikit-workflow.html\n",
    "\n",
    "http://machinelearningmastery.com/feature-selection-machine-learning-python/\n",
    "\n",
    "https://en.wikipedia.org/wiki/F1_score\n",
    "\n",
    "https://discussions.udacity.com/t/errors-when-using-selectkbest-in-final-project/170706/6\n"
   ]
  }
 ],
 "metadata": {
  "anaconda-cloud": {},
  "kernelspec": {
   "display_name": "Python [Root]",
   "language": "python",
   "name": "Python [Root]"
  },
  "language_info": {
   "codemirror_mode": {
    "name": "ipython",
    "version": 2
   },
   "file_extension": ".py",
   "mimetype": "text/x-python",
   "name": "python",
   "nbconvert_exporter": "python",
   "pygments_lexer": "ipython2",
   "version": "2.7.13"
  }
 },
 "nbformat": 4,
 "nbformat_minor": 0
}
